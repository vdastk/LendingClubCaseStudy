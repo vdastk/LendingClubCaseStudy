{
 "cells": [
  {
   "cell_type": "markdown",
   "id": "4ad20563-c104-4aaf-ba94-18bcd47a0210",
   "metadata": {},
   "source": [
    "# CaseStudy Notebook - Lending Case Study"
   ]
  },
  {
   "cell_type": "markdown",
   "id": "74b93622-ca7d-4fc7-a99c-838a1ed4d4ed",
   "metadata": {},
   "source": [
    "## About Dataset"
   ]
  },
  {
   "cell_type": "markdown",
   "id": "4c59f4f7-1ce5-4393-9ef2-6f50178c07d2",
   "metadata": {},
   "source": [
    "###  This Data Set Consists of data on loan application which needs to be analysed to identify defaulters \n"
   ]
  },
  {
   "cell_type": "code",
   "execution_count": 4,
   "id": "2bd1fb77-00f8-485b-8379-f62973d2a233",
   "metadata": {},
   "outputs": [],
   "source": [
    "# Load necessary libraries\n",
    "import pandas as pd\n",
    "import numpy as np\n",
    "import matplotlib.pyplot as plt\n",
    "import seaborn as sns"
   ]
  },
  {
   "cell_type": "code",
   "execution_count": 5,
   "id": "da71a198-d84b-4178-959e-f54988e7aed8",
   "metadata": {},
   "outputs": [],
   "source": [
    "# Ignore warnings\n",
    "import warnings\n",
    "warnings.filterwarnings('ignore')"
   ]
  },
  {
   "cell_type": "code",
   "execution_count": 6,
   "id": "5ca63f40-b8e9-4aab-9925-dc82984a557c",
   "metadata": {},
   "outputs": [],
   "source": [
    "df_data= pd.read_csv('loan.csv')"
   ]
  },
  {
   "cell_type": "markdown",
   "id": "fb2d3c7c-e639-44bd-a108-0a5435298199",
   "metadata": {},
   "source": [
    "## 1.0 Prelimenary Data Analysis"
   ]
  },
  {
   "cell_type": "code",
   "execution_count": 8,
   "id": "b6fb9d3c-93d3-4276-b3e8-471f9585296f",
   "metadata": {},
   "outputs": [
    {
     "name": "stdout",
     "output_type": "stream",
     "text": [
      "Shape of Dataset: \n",
      " (39717, 111)\n"
     ]
    }
   ],
   "source": [
    "print(\"Shape of Dataset: \\n\",df_data.shape)"
   ]
  },
  {
   "cell_type": "markdown",
   "id": "7e5edf7d-0508-4026-b27e-eb52ada99403",
   "metadata": {},
   "source": [
    "### 1.1 Analysing data for duplicate columns\n"
   ]
  },
  {
   "cell_type": "code",
   "execution_count": 10,
   "id": "84d6502a-54cf-4387-8b94-27d4aef4142d",
   "metadata": {
    "scrolled": true
   },
   "outputs": [
    {
     "name": "stdout",
     "output_type": "stream",
     "text": [
      "39717\n"
     ]
    }
   ],
   "source": [
    "print(df_data.duplicated(subset=None,keep='first').count())"
   ]
  },
  {
   "cell_type": "markdown",
   "id": "6265d3ac-931f-4923-9b0b-4908b16d7e7c",
   "metadata": {},
   "source": [
    "##### <span style='color:RED'> Observation 1.1.1: Total unique records in the dataset are 39717 </span>"
   ]
  },
  {
   "cell_type": "code",
   "execution_count": 12,
   "id": "436c500b-b114-41a5-86d2-1a35bad10b6e",
   "metadata": {},
   "outputs": [
    {
     "name": "stdout",
     "output_type": "stream",
     "text": [
      "Duplicate rows : Empty DataFrame\n",
      "Columns: [id, member_id, loan_amnt, funded_amnt, funded_amnt_inv, term, int_rate, installment, grade, sub_grade, emp_title, emp_length, home_ownership, annual_inc, verification_status, issue_d, loan_status, pymnt_plan, url, desc, purpose, title, zip_code, addr_state, dti, delinq_2yrs, earliest_cr_line, inq_last_6mths, mths_since_last_delinq, mths_since_last_record, open_acc, pub_rec, revol_bal, revol_util, total_acc, initial_list_status, out_prncp, out_prncp_inv, total_pymnt, total_pymnt_inv, total_rec_prncp, total_rec_int, total_rec_late_fee, recoveries, collection_recovery_fee, last_pymnt_d, last_pymnt_amnt, next_pymnt_d, last_credit_pull_d, collections_12_mths_ex_med, mths_since_last_major_derog, policy_code, application_type, annual_inc_joint, dti_joint, verification_status_joint, acc_now_delinq, tot_coll_amt, tot_cur_bal, open_acc_6m, open_il_6m, open_il_12m, open_il_24m, mths_since_rcnt_il, total_bal_il, il_util, open_rv_12m, open_rv_24m, max_bal_bc, all_util, total_rev_hi_lim, inq_fi, total_cu_tl, inq_last_12m, acc_open_past_24mths, avg_cur_bal, bc_open_to_buy, bc_util, chargeoff_within_12_mths, delinq_amnt, mo_sin_old_il_acct, mo_sin_old_rev_tl_op, mo_sin_rcnt_rev_tl_op, mo_sin_rcnt_tl, mort_acc, mths_since_recent_bc, mths_since_recent_bc_dlq, mths_since_recent_inq, mths_since_recent_revol_delinq, num_accts_ever_120_pd, num_actv_bc_tl, num_actv_rev_tl, num_bc_sats, num_bc_tl, num_il_tl, num_op_rev_tl, num_rev_accts, num_rev_tl_bal_gt_0, num_sats, num_tl_120dpd_2m, ...]\n",
      "Index: []\n",
      "\n",
      "[0 rows x 111 columns]\n"
     ]
    }
   ],
   "source": [
    "# The ID column is used for checking data duplication\n",
    "duplicate_rows=df_data[df_data.duplicated(['id'])]\n",
    "print(\"Duplicate rows :\", duplicate_rows)"
   ]
  },
  {
   "cell_type": "markdown",
   "id": "ba4f2b0e-f34d-42c3-8b9b-8c72616a443b",
   "metadata": {},
   "source": [
    "##### <span style='color:RED'> Observation 1.1.2: There are no duplicate records based on ID field </span>"
   ]
  },
  {
   "cell_type": "markdown",
   "id": "5339493e-bb04-431c-b796-3dcf33dad1ae",
   "metadata": {},
   "source": [
    "### 1.2 Analysing Null Rows and Columns"
   ]
  },
  {
   "cell_type": "code",
   "execution_count": 15,
   "id": "51d5d4eb-3ae0-4e9c-8b50-27f47e52d9b0",
   "metadata": {},
   "outputs": [
    {
     "name": "stdout",
     "output_type": "stream",
     "text": [
      "Number of rows having all null values:\n",
      "0\n"
     ]
    }
   ],
   "source": [
    "# Check for records with all null fields\n",
    "print('Number of rows having all null values:')\n",
    "print(df_data.isnull().all(axis=1).sum())"
   ]
  },
  {
   "cell_type": "markdown",
   "id": "18118067-c898-45e4-8e0a-1479be555061",
   "metadata": {},
   "source": [
    "##### <span style='color:RED'>Observation 1.2.1: There are no rows with all NULL values</span>"
   ]
  },
  {
   "cell_type": "code",
   "execution_count": 17,
   "id": "ec9f1927-54ac-4b1b-aaaa-8d3531363918",
   "metadata": {},
   "outputs": [
    {
     "name": "stdout",
     "output_type": "stream",
     "text": [
      "Number of columns having all null values:\n",
      "54\n"
     ]
    }
   ],
   "source": [
    "# Determining the number of columns through sum function which have missing values\n",
    "print('Number of columns having all null values:')\n",
    "print(df_data.isnull().all(axis=0).sum())"
   ]
  },
  {
   "cell_type": "markdown",
   "id": "8c0861a7-8b35-4d75-bda9-30647a05eaef",
   "metadata": {},
   "source": [
    "##### <span style='color:RED'>Observation 1.2.2: There are 54 columns with all NULL values</span>"
   ]
  },
  {
   "cell_type": "code",
   "execution_count": 19,
   "id": "19f979a2-ee15-408e-95de-876c0458cf65",
   "metadata": {},
   "outputs": [
    {
     "name": "stdout",
     "output_type": "stream",
     "text": [
      "Index(['mths_since_last_major_derog', 'annual_inc_joint', 'dti_joint',\n",
      "       'verification_status_joint', 'tot_coll_amt', 'tot_cur_bal',\n",
      "       'open_acc_6m', 'open_il_6m', 'open_il_12m', 'open_il_24m',\n",
      "       'mths_since_rcnt_il', 'total_bal_il', 'il_util', 'open_rv_12m',\n",
      "       'open_rv_24m', 'max_bal_bc', 'all_util', 'total_rev_hi_lim', 'inq_fi',\n",
      "       'total_cu_tl', 'inq_last_12m', 'acc_open_past_24mths', 'avg_cur_bal',\n",
      "       'bc_open_to_buy', 'bc_util', 'mo_sin_old_il_acct',\n",
      "       'mo_sin_old_rev_tl_op', 'mo_sin_rcnt_rev_tl_op', 'mo_sin_rcnt_tl',\n",
      "       'mort_acc', 'mths_since_recent_bc', 'mths_since_recent_bc_dlq',\n",
      "       'mths_since_recent_inq', 'mths_since_recent_revol_delinq',\n",
      "       'num_accts_ever_120_pd', 'num_actv_bc_tl', 'num_actv_rev_tl',\n",
      "       'num_bc_sats', 'num_bc_tl', 'num_il_tl', 'num_op_rev_tl',\n",
      "       'num_rev_accts', 'num_rev_tl_bal_gt_0', 'num_sats', 'num_tl_120dpd_2m',\n",
      "       'num_tl_30dpd', 'num_tl_90g_dpd_24m', 'num_tl_op_past_12m',\n",
      "       'pct_tl_nvr_dlq', 'percent_bc_gt_75', 'tot_hi_cred_lim',\n",
      "       'total_bal_ex_mort', 'total_bc_limit', 'total_il_high_credit_limit'],\n",
      "      dtype='object')\n"
     ]
    }
   ],
   "source": [
    "# Print the columns with all null values. Check null and find the mean. If mean is 1 then all values in that column are null\n",
    "all_null_cols = df_data.columns[df_data.isnull().mean()==1]\n",
    "print(all_null_cols)"
   ]
  },
  {
   "cell_type": "markdown",
   "id": "fbe1dfcb-e36c-4ea5-b776-bc3eec76d14c",
   "metadata": {},
   "source": [
    "## 1.3 Datacleansing "
   ]
  },
  {
   "cell_type": "markdown",
   "id": "c8dbb016-41ae-4d47-b72f-8b39f7b24ecb",
   "metadata": {},
   "source": [
    "#### Step1 - Drop columns with all null values"
   ]
  },
  {
   "cell_type": "code",
   "execution_count": 22,
   "id": "10b56837-fa42-4154-93d2-97289fbad9dc",
   "metadata": {},
   "outputs": [
    {
     "name": "stdout",
     "output_type": "stream",
     "text": [
      "Step1 - Shape Before Dropping:  (39717, 111)\n",
      "Step1 - Shape After Dropping:  (39717, 57)\n"
     ]
    }
   ],
   "source": [
    "# Drop columns with all null values\n",
    "print(\"Step1 - Shape Before Dropping: \",df_data.shape)\n",
    "df_data.drop(all_null_cols,axis=1, inplace= True)\n",
    "print(\"Step1 - Shape After Dropping: \",df_data.shape)"
   ]
  },
  {
   "cell_type": "markdown",
   "id": "c6b940bf-0bd1-48c2-9980-7c34bd619cd9",
   "metadata": {},
   "source": [
    "##### <span style='color:RED'>Observation 1.3.1: There are 57 columns in the updated dataset which will be used for further analysis</span>"
   ]
  },
  {
   "cell_type": "markdown",
   "id": "ebd48e75-3926-4ade-b21d-fc90ec561c80",
   "metadata": {},
   "source": [
    "#### Step2 - Drop records with 'loan_status' == \"Current\" since these customers are not considered defaulters by the bank as per the given case study"
   ]
  },
  {
   "cell_type": "code",
   "execution_count": 25,
   "id": "da36338a-0cb7-47d7-b6a8-d3be2559ed6c",
   "metadata": {},
   "outputs": [
    {
     "data": {
      "text/plain": [
       "(38577, 57)"
      ]
     },
     "execution_count": 25,
     "metadata": {},
     "output_type": "execute_result"
    }
   ],
   "source": [
    "df_data=df_data[~(df_data['loan_status']==\"Current\")]\n",
    "df_data.shape"
   ]
  },
  {
   "cell_type": "markdown",
   "id": "fe920a4c-72a1-46a3-ae68-61e5a8fe2345",
   "metadata": {},
   "source": [
    "##### <span style='color:RED'>Observation 1.3.2: There are 38577 rows in the updated dataset which will be used for further</span>"
   ]
  },
  {
   "cell_type": "code",
   "execution_count": 27,
   "id": "361ddb8a-9c44-4278-be6f-653994d6c25d",
   "metadata": {},
   "outputs": [
    {
     "name": "stdout",
     "output_type": "stream",
     "text": [
      "<class 'pandas.core.frame.DataFrame'>\n",
      "Index: 38577 entries, 0 to 39716\n",
      "Data columns (total 57 columns):\n",
      " #   Column                      Non-Null Count  Dtype  \n",
      "---  ------                      --------------  -----  \n",
      " 0   id                          38577 non-null  int64  \n",
      " 1   member_id                   38577 non-null  int64  \n",
      " 2   loan_amnt                   38577 non-null  int64  \n",
      " 3   funded_amnt                 38577 non-null  int64  \n",
      " 4   funded_amnt_inv             38577 non-null  float64\n",
      " 5   term                        38577 non-null  object \n",
      " 6   int_rate                    38577 non-null  object \n",
      " 7   installment                 38577 non-null  float64\n",
      " 8   grade                       38577 non-null  object \n",
      " 9   sub_grade                   38577 non-null  object \n",
      " 10  emp_title                   36191 non-null  object \n",
      " 11  emp_length                  37544 non-null  object \n",
      " 12  home_ownership              38577 non-null  object \n",
      " 13  annual_inc                  38577 non-null  float64\n",
      " 14  verification_status         38577 non-null  object \n",
      " 15  issue_d                     38577 non-null  object \n",
      " 16  loan_status                 38577 non-null  object \n",
      " 17  pymnt_plan                  38577 non-null  object \n",
      " 18  url                         38577 non-null  object \n",
      " 19  desc                        26048 non-null  object \n",
      " 20  purpose                     38577 non-null  object \n",
      " 21  title                       38566 non-null  object \n",
      " 22  zip_code                    38577 non-null  object \n",
      " 23  addr_state                  38577 non-null  object \n",
      " 24  dti                         38577 non-null  float64\n",
      " 25  delinq_2yrs                 38577 non-null  int64  \n",
      " 26  earliest_cr_line            38577 non-null  object \n",
      " 27  inq_last_6mths              38577 non-null  int64  \n",
      " 28  mths_since_last_delinq      13672 non-null  float64\n",
      " 29  mths_since_last_record      2740 non-null   float64\n",
      " 30  open_acc                    38577 non-null  int64  \n",
      " 31  pub_rec                     38577 non-null  int64  \n",
      " 32  revol_bal                   38577 non-null  int64  \n",
      " 33  revol_util                  38527 non-null  object \n",
      " 34  total_acc                   38577 non-null  int64  \n",
      " 35  initial_list_status         38577 non-null  object \n",
      " 36  out_prncp                   38577 non-null  float64\n",
      " 37  out_prncp_inv               38577 non-null  float64\n",
      " 38  total_pymnt                 38577 non-null  float64\n",
      " 39  total_pymnt_inv             38577 non-null  float64\n",
      " 40  total_rec_prncp             38577 non-null  float64\n",
      " 41  total_rec_int               38577 non-null  float64\n",
      " 42  total_rec_late_fee          38577 non-null  float64\n",
      " 43  recoveries                  38577 non-null  float64\n",
      " 44  collection_recovery_fee     38577 non-null  float64\n",
      " 45  last_pymnt_d                38506 non-null  object \n",
      " 46  last_pymnt_amnt             38577 non-null  float64\n",
      " 47  next_pymnt_d                0 non-null      object \n",
      " 48  last_credit_pull_d          38575 non-null  object \n",
      " 49  collections_12_mths_ex_med  38521 non-null  float64\n",
      " 50  policy_code                 38577 non-null  int64  \n",
      " 51  application_type            38577 non-null  object \n",
      " 52  acc_now_delinq              38577 non-null  int64  \n",
      " 53  chargeoff_within_12_mths    38521 non-null  float64\n",
      " 54  delinq_amnt                 38577 non-null  int64  \n",
      " 55  pub_rec_bankruptcies        37880 non-null  float64\n",
      " 56  tax_liens                   38538 non-null  float64\n",
      "dtypes: float64(20), int64(13), object(24)\n",
      "memory usage: 17.1+ MB\n"
     ]
    }
   ],
   "source": [
    "#Check the datatypes of new dataset\n",
    "df_data.info()"
   ]
  },
  {
   "cell_type": "markdown",
   "id": "ff2491a3-a2ec-4bfd-bb12-fb2213642118",
   "metadata": {},
   "source": [
    "#### Step3 - Drop column next_pymnt_d since all values are 0"
   ]
  },
  {
   "cell_type": "code",
   "execution_count": 29,
   "id": "b8196fc9-8b83-41a6-94f7-7433c52ced5a",
   "metadata": {},
   "outputs": [
    {
     "name": "stdout",
     "output_type": "stream",
     "text": [
      "Step3 - Shape Before Dropping next_pymnt_d:  (38577, 57)\n",
      "Step3 - Shape After Dropping next_pymnt_d:  (38577, 56)\n"
     ]
    }
   ],
   "source": [
    "# Drop column next_pymnt_d with all 0 values\n",
    "print(\"Step3 - Shape Before Dropping next_pymnt_d: \",df_data.shape)\n",
    "df_data.drop(['next_pymnt_d'],axis=1, inplace= True)\n",
    "print(\"Step3 - Shape After Dropping next_pymnt_d: \",df_data.shape)"
   ]
  },
  {
   "cell_type": "code",
   "execution_count": 30,
   "id": "603b59b3-4186-41f0-8341-c8a3156c4009",
   "metadata": {},
   "outputs": [
    {
     "data": {
      "text/plain": [
       "(38577, 56)"
      ]
     },
     "execution_count": 30,
     "metadata": {},
     "output_type": "execute_result"
    }
   ],
   "source": [
    "df_data.shape"
   ]
  },
  {
   "cell_type": "markdown",
   "id": "867b7a57-4bd2-4ee6-b869-36d825f9b979",
   "metadata": {},
   "source": [
    "##### <span style='color:RED'>Observation 1.3.3: There are 56 columns in the updated dataset which will be used for further</span>\n"
   ]
  },
  {
   "cell_type": "markdown",
   "id": "e8dc08a1-0c0c-451b-aa3d-4ed7f41cb2c7",
   "metadata": {},
   "source": [
    "#### Step4 - Employment Length field needs clean-up since this would help in numerical analysis"
   ]
  },
  {
   "cell_type": "code",
   "execution_count": 33,
   "id": "4d149129-42e0-41ba-b8da-e453367443cf",
   "metadata": {},
   "outputs": [
    {
     "name": "stdout",
     "output_type": "stream",
     "text": [
      "Various data in emp_length emp_length\n",
      "10+ years    8488\n",
      "< 1 year     4508\n",
      "2 years      4291\n",
      "3 years      4012\n",
      "4 years      3342\n",
      "5 years      3194\n",
      "1 year       3169\n",
      "6 years      2168\n",
      "7 years      1711\n",
      "8 years      1435\n",
      "9 years      1226\n",
      "Name: count, dtype: int64\n"
     ]
    }
   ],
   "source": [
    "print(\"Various data in emp_length\",df_data['emp_length'].value_counts())"
   ]
  },
  {
   "cell_type": "code",
   "execution_count": 34,
   "id": "1b352503-cd30-4c65-a579-24995d980875",
   "metadata": {},
   "outputs": [],
   "source": [
    "# As per data dictonary <1 year would be considered as 0 and 10+ years would be considered as 10 Years\n",
    "df_data.emp_length= df_data.emp_length.str.replace('< 1 year','0 year')\n",
    "df_data.emp_length= df_data.emp_length.str.replace('10+ years','10 years')"
   ]
  },
  {
   "cell_type": "code",
   "execution_count": 35,
   "id": "57f9b6cf-5c3b-47df-80f1-b3e6c234838a",
   "metadata": {},
   "outputs": [
    {
     "name": "stdout",
     "output_type": "stream",
     "text": [
      "Various data in emp_length after updates emp_length\n",
      "10 years    8488\n",
      "0 year      4508\n",
      "2 years     4291\n",
      "3 years     4012\n",
      "4 years     3342\n",
      "5 years     3194\n",
      "1 year      3169\n",
      "6 years     2168\n",
      "7 years     1711\n",
      "8 years     1435\n",
      "9 years     1226\n",
      "Name: count, dtype: int64\n"
     ]
    }
   ],
   "source": [
    "print(\"Various data in emp_length after updates\",df_data['emp_length'].value_counts())"
   ]
  },
  {
   "cell_type": "code",
   "execution_count": 36,
   "id": "1dfdfac2-c8aa-4760-8b1a-4f7945e122e8",
   "metadata": {},
   "outputs": [],
   "source": [
    "# Extract numeric data from string values\n",
    "df_data['emp_length']=df_data.emp_length.str.extract(r'(\\d+)')"
   ]
  },
  {
   "cell_type": "code",
   "execution_count": 37,
   "id": "72d9c279-9930-4864-84ae-e89e334d4831",
   "metadata": {},
   "outputs": [
    {
     "name": "stdout",
     "output_type": "stream",
     "text": [
      "Various data in emp_length of copy_data emp_length\n",
      "10    8488\n",
      "0     4508\n",
      "2     4291\n",
      "3     4012\n",
      "4     3342\n",
      "5     3194\n",
      "1     3169\n",
      "6     2168\n",
      "7     1711\n",
      "8     1435\n",
      "9     1226\n",
      "Name: count, dtype: int64\n"
     ]
    }
   ],
   "source": [
    "print(\"Various data in emp_length of copy_data\",df_data['emp_length'].value_counts())"
   ]
  },
  {
   "cell_type": "code",
   "execution_count": 38,
   "id": "c9f3ccc2-9866-4264-999e-7e269f13554c",
   "metadata": {},
   "outputs": [
    {
     "data": {
      "text/plain": [
       "(38577, 56)"
      ]
     },
     "execution_count": 38,
     "metadata": {},
     "output_type": "execute_result"
    }
   ],
   "source": [
    "# Check if shape has been altered\n",
    "df_data.shape"
   ]
  },
  {
   "cell_type": "code",
   "execution_count": 39,
   "id": "93b03aa8-f4e8-4026-975a-6ea113b4cbc4",
   "metadata": {},
   "outputs": [
    {
     "name": "stdout",
     "output_type": "stream",
     "text": [
      "<class 'pandas.core.series.Series'>\n",
      "Index: 38577 entries, 0 to 39716\n",
      "Series name: emp_length\n",
      "Non-Null Count  Dtype \n",
      "--------------  ----- \n",
      "37544 non-null  object\n",
      "dtypes: object(1)\n",
      "memory usage: 602.8+ KB\n"
     ]
    }
   ],
   "source": [
    "df_data.emp_length.info()"
   ]
  },
  {
   "cell_type": "code",
   "execution_count": 40,
   "id": "b079f459-a6e9-45ba-911a-b94c2555b31e",
   "metadata": {},
   "outputs": [
    {
     "data": {
      "text/plain": [
       "1033"
      ]
     },
     "execution_count": 40,
     "metadata": {},
     "output_type": "execute_result"
    }
   ],
   "source": [
    "#Rows in emp_length not listed by value_counts\n",
    "38577 - 37544 "
   ]
  },
  {
   "cell_type": "markdown",
   "id": "e1d68200-a67a-42f2-ab1d-fe7a4a068f2d",
   "metadata": {},
   "source": [
    "##### <span style='color:RED'>Observation 1.3.4: There are 1033 rows in emp_length which are not listed by value_counts. These would need separate handling."
   ]
  },
  {
   "cell_type": "markdown",
   "id": "3465e3af-696b-4076-8607-adfa5a6f03bc",
   "metadata": {},
   "source": [
    "#### Step 5 - Interest Rate field has % symbol which needs to be removed for analysis"
   ]
  },
  {
   "cell_type": "code",
   "execution_count": 43,
   "id": "9e9a5dda-e162-494d-b8ee-59b7a8cf3010",
   "metadata": {},
   "outputs": [],
   "source": [
    "#Clean interest rates\n",
    "df_data['int_rate']=df_data['int_rate'].str.replace('%','')"
   ]
  },
  {
   "cell_type": "code",
   "execution_count": 44,
   "id": "1c11a3e7-7568-4499-8701-28dd30704c23",
   "metadata": {},
   "outputs": [
    {
     "data": {
      "text/html": [
       "<div>\n",
       "<style scoped>\n",
       "    .dataframe tbody tr th:only-of-type {\n",
       "        vertical-align: middle;\n",
       "    }\n",
       "\n",
       "    .dataframe tbody tr th {\n",
       "        vertical-align: top;\n",
       "    }\n",
       "\n",
       "    .dataframe thead th {\n",
       "        text-align: right;\n",
       "    }\n",
       "</style>\n",
       "<table border=\"1\" class=\"dataframe\">\n",
       "  <thead>\n",
       "    <tr style=\"text-align: right;\">\n",
       "      <th></th>\n",
       "      <th>id</th>\n",
       "      <th>member_id</th>\n",
       "      <th>loan_amnt</th>\n",
       "      <th>funded_amnt</th>\n",
       "      <th>funded_amnt_inv</th>\n",
       "      <th>term</th>\n",
       "      <th>int_rate</th>\n",
       "      <th>installment</th>\n",
       "      <th>grade</th>\n",
       "      <th>sub_grade</th>\n",
       "      <th>...</th>\n",
       "      <th>last_pymnt_amnt</th>\n",
       "      <th>last_credit_pull_d</th>\n",
       "      <th>collections_12_mths_ex_med</th>\n",
       "      <th>policy_code</th>\n",
       "      <th>application_type</th>\n",
       "      <th>acc_now_delinq</th>\n",
       "      <th>chargeoff_within_12_mths</th>\n",
       "      <th>delinq_amnt</th>\n",
       "      <th>pub_rec_bankruptcies</th>\n",
       "      <th>tax_liens</th>\n",
       "    </tr>\n",
       "  </thead>\n",
       "  <tbody>\n",
       "    <tr>\n",
       "      <th>0</th>\n",
       "      <td>1077501</td>\n",
       "      <td>1296599</td>\n",
       "      <td>5000</td>\n",
       "      <td>5000</td>\n",
       "      <td>4975.0</td>\n",
       "      <td>36 months</td>\n",
       "      <td>10.65</td>\n",
       "      <td>162.87</td>\n",
       "      <td>B</td>\n",
       "      <td>B2</td>\n",
       "      <td>...</td>\n",
       "      <td>171.62</td>\n",
       "      <td>May-16</td>\n",
       "      <td>0.0</td>\n",
       "      <td>1</td>\n",
       "      <td>INDIVIDUAL</td>\n",
       "      <td>0</td>\n",
       "      <td>0.0</td>\n",
       "      <td>0</td>\n",
       "      <td>0.0</td>\n",
       "      <td>0.0</td>\n",
       "    </tr>\n",
       "    <tr>\n",
       "      <th>1</th>\n",
       "      <td>1077430</td>\n",
       "      <td>1314167</td>\n",
       "      <td>2500</td>\n",
       "      <td>2500</td>\n",
       "      <td>2500.0</td>\n",
       "      <td>60 months</td>\n",
       "      <td>15.27</td>\n",
       "      <td>59.83</td>\n",
       "      <td>C</td>\n",
       "      <td>C4</td>\n",
       "      <td>...</td>\n",
       "      <td>119.66</td>\n",
       "      <td>Sep-13</td>\n",
       "      <td>0.0</td>\n",
       "      <td>1</td>\n",
       "      <td>INDIVIDUAL</td>\n",
       "      <td>0</td>\n",
       "      <td>0.0</td>\n",
       "      <td>0</td>\n",
       "      <td>0.0</td>\n",
       "      <td>0.0</td>\n",
       "    </tr>\n",
       "    <tr>\n",
       "      <th>2</th>\n",
       "      <td>1077175</td>\n",
       "      <td>1313524</td>\n",
       "      <td>2400</td>\n",
       "      <td>2400</td>\n",
       "      <td>2400.0</td>\n",
       "      <td>36 months</td>\n",
       "      <td>15.96</td>\n",
       "      <td>84.33</td>\n",
       "      <td>C</td>\n",
       "      <td>C5</td>\n",
       "      <td>...</td>\n",
       "      <td>649.91</td>\n",
       "      <td>May-16</td>\n",
       "      <td>0.0</td>\n",
       "      <td>1</td>\n",
       "      <td>INDIVIDUAL</td>\n",
       "      <td>0</td>\n",
       "      <td>0.0</td>\n",
       "      <td>0</td>\n",
       "      <td>0.0</td>\n",
       "      <td>0.0</td>\n",
       "    </tr>\n",
       "    <tr>\n",
       "      <th>3</th>\n",
       "      <td>1076863</td>\n",
       "      <td>1277178</td>\n",
       "      <td>10000</td>\n",
       "      <td>10000</td>\n",
       "      <td>10000.0</td>\n",
       "      <td>36 months</td>\n",
       "      <td>13.49</td>\n",
       "      <td>339.31</td>\n",
       "      <td>C</td>\n",
       "      <td>C1</td>\n",
       "      <td>...</td>\n",
       "      <td>357.48</td>\n",
       "      <td>Apr-16</td>\n",
       "      <td>0.0</td>\n",
       "      <td>1</td>\n",
       "      <td>INDIVIDUAL</td>\n",
       "      <td>0</td>\n",
       "      <td>0.0</td>\n",
       "      <td>0</td>\n",
       "      <td>0.0</td>\n",
       "      <td>0.0</td>\n",
       "    </tr>\n",
       "    <tr>\n",
       "      <th>5</th>\n",
       "      <td>1075269</td>\n",
       "      <td>1311441</td>\n",
       "      <td>5000</td>\n",
       "      <td>5000</td>\n",
       "      <td>5000.0</td>\n",
       "      <td>36 months</td>\n",
       "      <td>7.90</td>\n",
       "      <td>156.46</td>\n",
       "      <td>A</td>\n",
       "      <td>A4</td>\n",
       "      <td>...</td>\n",
       "      <td>161.03</td>\n",
       "      <td>Jan-16</td>\n",
       "      <td>0.0</td>\n",
       "      <td>1</td>\n",
       "      <td>INDIVIDUAL</td>\n",
       "      <td>0</td>\n",
       "      <td>0.0</td>\n",
       "      <td>0</td>\n",
       "      <td>0.0</td>\n",
       "      <td>0.0</td>\n",
       "    </tr>\n",
       "  </tbody>\n",
       "</table>\n",
       "<p>5 rows × 56 columns</p>\n",
       "</div>"
      ],
      "text/plain": [
       "        id  member_id  loan_amnt  funded_amnt  funded_amnt_inv        term  \\\n",
       "0  1077501    1296599       5000         5000           4975.0   36 months   \n",
       "1  1077430    1314167       2500         2500           2500.0   60 months   \n",
       "2  1077175    1313524       2400         2400           2400.0   36 months   \n",
       "3  1076863    1277178      10000        10000          10000.0   36 months   \n",
       "5  1075269    1311441       5000         5000           5000.0   36 months   \n",
       "\n",
       "  int_rate  installment grade sub_grade  ... last_pymnt_amnt  \\\n",
       "0    10.65       162.87     B        B2  ...          171.62   \n",
       "1    15.27        59.83     C        C4  ...          119.66   \n",
       "2    15.96        84.33     C        C5  ...          649.91   \n",
       "3    13.49       339.31     C        C1  ...          357.48   \n",
       "5     7.90       156.46     A        A4  ...          161.03   \n",
       "\n",
       "  last_credit_pull_d collections_12_mths_ex_med  policy_code application_type  \\\n",
       "0             May-16                        0.0            1       INDIVIDUAL   \n",
       "1             Sep-13                        0.0            1       INDIVIDUAL   \n",
       "2             May-16                        0.0            1       INDIVIDUAL   \n",
       "3             Apr-16                        0.0            1       INDIVIDUAL   \n",
       "5             Jan-16                        0.0            1       INDIVIDUAL   \n",
       "\n",
       "  acc_now_delinq chargeoff_within_12_mths delinq_amnt pub_rec_bankruptcies  \\\n",
       "0              0                      0.0           0                  0.0   \n",
       "1              0                      0.0           0                  0.0   \n",
       "2              0                      0.0           0                  0.0   \n",
       "3              0                      0.0           0                  0.0   \n",
       "5              0                      0.0           0                  0.0   \n",
       "\n",
       "  tax_liens  \n",
       "0       0.0  \n",
       "1       0.0  \n",
       "2       0.0  \n",
       "3       0.0  \n",
       "5       0.0  \n",
       "\n",
       "[5 rows x 56 columns]"
      ]
     },
     "execution_count": 44,
     "metadata": {},
     "output_type": "execute_result"
    }
   ],
   "source": [
    "df_data.head(5)"
   ]
  },
  {
   "cell_type": "markdown",
   "id": "bf135e89-5178-4837-ae3d-d61db7af08b6",
   "metadata": {},
   "source": [
    "#### Step 6 - revol_util has % symbol and needs to be removed."
   ]
  },
  {
   "cell_type": "code",
   "execution_count": 46,
   "id": "71720d12-36d8-4107-82fa-cfcd853168c2",
   "metadata": {},
   "outputs": [],
   "source": [
    "#Clean revol_util rates\n",
    "df_data['revol_util']=df_data['revol_util'].str.replace('%','')"
   ]
  },
  {
   "cell_type": "markdown",
   "id": "a276bf9e-b8a1-42ed-a3ec-87706ef30de0",
   "metadata": {},
   "source": [
    "## 2.0 EDA"
   ]
  },
  {
   "cell_type": "markdown",
   "id": "d625a39b-6ba5-4d44-ba18-bd06dbb89412",
   "metadata": {},
   "source": [
    "### 2.1 Analyze Key Elements"
   ]
  },
  {
   "cell_type": "markdown",
   "id": "ea0fd4e2-1409-4268-aa2b-712e82e49a04",
   "metadata": {},
   "source": [
    "#### Following data elements will be considered for further analysis and are considered the key data elements to assess risk related to loan applications.<BR><BR> - Loan Amount <BR><BR>- Interest Rate <BR><BR>- DTI<BR> <BR>- Annual Income"
   ]
  },
  {
   "cell_type": "code",
   "execution_count": 50,
   "id": "36bb16bd-fae5-475a-88dc-94c2205f6460",
   "metadata": {},
   "outputs": [],
   "source": [
    "# Make a copy of the cleansed data for further analysis\n",
    "df_loan_data = df_data"
   ]
  },
  {
   "cell_type": "code",
   "execution_count": 51,
   "id": "ec234d44-8132-4ea4-9c43-d34c0b621a92",
   "metadata": {},
   "outputs": [
    {
     "data": {
      "image/png": "[encoded data removed]",
      "text/plain": [
       "<Figure size 1000x500 with 1 Axes>"
      ]
     },
     "metadata": {},
     "output_type": "display_data"
    }
   ],
   "source": [
    "#Drawing Box Plot for loan amount\n",
    "plt.figure(figsize=(10,5))\n",
    "with plt.style.context('ggplot'):\n",
    "  sns.boxplot(df_loan_data.loan_amnt,orient='h')"
   ]
  },
  {
   "cell_type": "markdown",
   "id": "9a56c367-ffba-4302-b438-83cf1d8f17c0",
   "metadata": {},
   "source": [
    "##### <span style='color:RED'>Observation 2.1.1: There is a continous distribution of data across loan amount and hence need not drop outliers. <BR> 95the percentile and below can be considered for analysis"
   ]
  },
  {
   "cell_type": "code",
   "execution_count": 53,
   "id": "a8eb3d65-7051-4118-ab1c-01c2ce6752de",
   "metadata": {},
   "outputs": [],
   "source": [
    "# Convert int_rate to float for analysis\n",
    "df_loan_data['int_rate'] = df_loan_data['int_rate'].astype('float64')"
   ]
  },
  {
   "cell_type": "code",
   "execution_count": 54,
   "id": "a2b83f3f-d588-4f71-87c0-095d23ce456e",
   "metadata": {},
   "outputs": [
    {
     "data": {
      "image/png": "[encoded data removed]",
      "text/plain": [
       "<Figure size 1000x500 with 1 Axes>"
      ]
     },
     "metadata": {},
     "output_type": "display_data"
    }
   ],
   "source": [
    "# Drawing Boxplot for Interest Rate\n",
    "plt.figure(figsize=(10,5))\n",
    "with plt.style.context('ggplot'):\n",
    "  sns.boxplot(df_loan_data.int_rate,orient='h')"
   ]
  },
  {
   "attachments": {},
   "cell_type": "markdown",
   "id": "6ef3065e-d4bd-481e-ae7f-6d30cf4f890d",
   "metadata": {},
   "source": [
    "##### <span style='color:RED'>Observation 2.1.2: There is a continuous distribution of data across interest rate and hence need not drop outliers."
   ]
  },
  {
   "cell_type": "code",
   "execution_count": 56,
   "id": "3db70b6a-ef8c-4f66-be60-2bc93917c4f4",
   "metadata": {},
   "outputs": [
    {
     "data": {
      "image/png": "[encoded data removed]",
      "text/plain": [
       "<Figure size 1000x500 with 1 Axes>"
      ]
     },
     "metadata": {},
     "output_type": "display_data"
    }
   ],
   "source": [
    "#DTI distribution\n",
    "# Drawing Boxplot for DTI\n",
    "plt.figure(figsize=(10,5))\n",
    "with plt.style.context('ggplot'):\n",
    "  sns.boxplot(df_loan_data.dti,orient='h') "
   ]
  },
  {
   "cell_type": "markdown",
   "id": "8334e982-e59a-401d-9f78-22464ff24ad2",
   "metadata": {},
   "source": [
    "##### <span style='color:RED'>Observation 2.1.3: There are no outliers for DTI and hence need not drop any."
   ]
  },
  {
   "cell_type": "code",
   "execution_count": 58,
   "id": "35480312-6a1e-4d75-8a70-d868db30bd8b",
   "metadata": {},
   "outputs": [
    {
     "data": {
      "image/png": "[encoded data removed]",
      "text/plain": [
       "<Figure size 1000x500 with 1 Axes>"
      ]
     },
     "metadata": {},
     "output_type": "display_data"
    }
   ],
   "source": [
    "# Drawing Boxplot for Annual Income\n",
    "plt.figure(figsize=(10,5))\n",
    "with plt.style.context('ggplot'):\n",
    "  sns.boxplot(df_loan_data.annual_inc,orient='h')"
   ]
  },
  {
   "cell_type": "code",
   "execution_count": 59,
   "id": "8cc72509-3e2f-4728-9678-5a39288f5e98",
   "metadata": {},
   "outputs": [
    {
     "data": {
      "text/plain": [
       "count    3.857700e+04\n",
       "mean     6.877797e+04\n",
       "std      6.421868e+04\n",
       "min      4.000000e+03\n",
       "25%      4.000000e+04\n",
       "50%      5.886800e+04\n",
       "75%      8.200000e+04\n",
       "max      6.000000e+06\n",
       "Name: annual_inc, dtype: float64"
      ]
     },
     "execution_count": 59,
     "metadata": {},
     "output_type": "execute_result"
    }
   ],
   "source": [
    "df_loan_data.annual_inc.describe()"
   ]
  },
  {
   "cell_type": "code",
   "execution_count": 60,
   "id": "4370f25d-fdd1-4744-b0c6-6893f34b8ed6",
   "metadata": {},
   "outputs": [
    {
     "data": {
      "text/plain": [
       "0.50     58868.0\n",
       "0.75     82000.0\n",
       "0.90    115000.0\n",
       "0.95    140004.0\n",
       "0.99    234144.0\n",
       "Name: annual_inc, dtype: float64"
      ]
     },
     "execution_count": 60,
     "metadata": {},
     "output_type": "execute_result"
    }
   ],
   "source": [
    "annual_income_quantile= df_loan_data.annual_inc.quantile([0.5, 0.75,0.90, 0.95, 0.99])\n",
    "annual_income_quantile"
   ]
  },
  {
   "cell_type": "code",
   "execution_count": 61,
   "id": "726ae6ab-4ae1-4c03-8e42-a4b810755935",
   "metadata": {},
   "outputs": [],
   "source": [
    "# Removing Outliers from annual income i.e. Quantile 0.95\n",
    "df_loan_data=df_loan_data[df_loan_data[\"annual_inc\"]< df_loan_data[\"annual_inc\"].quantile(0.95)]"
   ]
  },
  {
   "cell_type": "code",
   "execution_count": 62,
   "id": "4e563bd4-5246-473a-a9b9-46503458b7c4",
   "metadata": {},
   "outputs": [
    {
     "data": {
      "image/png": "[encoded data removed]",
      "text/plain": [
       "<Figure size 1000x500 with 1 Axes>"
      ]
     },
     "metadata": {},
     "output_type": "display_data"
    }
   ],
   "source": [
    "# Drawing Boxplot for Annual Income\n",
    "plt.figure(figsize=(10,5))\n",
    "with plt.style.context('ggplot'):\n",
    "  sns.boxplot(df_loan_data.annual_inc,orient='h')"
   ]
  },
  {
   "cell_type": "code",
   "execution_count": 63,
   "id": "4f606daf-86d9-4376-b4fb-b26083a303e4",
   "metadata": {},
   "outputs": [
    {
     "data": {
      "text/plain": [
       "(36642, 56)"
      ]
     },
     "execution_count": 63,
     "metadata": {},
     "output_type": "execute_result"
    }
   ],
   "source": [
    "df_loan_data.shape"
   ]
  },
  {
   "cell_type": "markdown",
   "id": "19364fd3-1573-411f-9497-cce10127cab6",
   "metadata": {},
   "source": [
    "##### <span style='color:RED'>Observation 2.1.4: The outliers for Annual Income is removed and record count for loan data is 36642"
   ]
  },
  {
   "cell_type": "markdown",
   "id": "96936779-f02f-4343-b960-366589ecf90e",
   "metadata": {},
   "source": [
    "### 2.2 Univariate Analysis"
   ]
  },
  {
   "cell_type": "markdown",
   "id": "0cbb179f-3f87-47ca-8272-0934b16d7e80",
   "metadata": {},
   "source": [
    "#### 2.2.1 Derive Data for Univariate Analysis"
   ]
  },
  {
   "cell_type": "code",
   "execution_count": 67,
   "id": "bf81ee2a-17af-44bc-9695-935dee0051e2",
   "metadata": {},
   "outputs": [],
   "source": [
    "# Assigning new variable for Univariate analysis\n",
    "df_loan_data_uni=df_loan_data"
   ]
  },
  {
   "cell_type": "code",
   "execution_count": 68,
   "id": "7f141f2b-6822-4909-9bd0-915b7f5cc67e",
   "metadata": {},
   "outputs": [
    {
     "data": {
      "text/plain": [
       "0    Dec-11\n",
       "1    Dec-11\n",
       "2    Dec-11\n",
       "3    Dec-11\n",
       "5    Dec-11\n",
       "Name: issue_d, dtype: object"
      ]
     },
     "execution_count": 68,
     "metadata": {},
     "output_type": "execute_result"
    }
   ],
   "source": [
    "df_loan_data_uni['issue_d'].head(5)"
   ]
  },
  {
   "cell_type": "code",
   "execution_count": 69,
   "id": "7ab61c5a-0a6e-4ece-9e67-5f9a3bbe119e",
   "metadata": {},
   "outputs": [],
   "source": [
    "# Extract Month and year from Issued Date\n",
    "df_loan_data_uni['issue_month']=df_loan_data_uni['issue_d'].apply(lambda x: str.split(x,\"-\")[0])"
   ]
  },
  {
   "cell_type": "code",
   "execution_count": 70,
   "id": "9e188050-c67e-40bb-b117-64a6fff627a1",
   "metadata": {},
   "outputs": [
    {
     "data": {
      "text/plain": [
       "0    Dec\n",
       "1    Dec\n",
       "2    Dec\n",
       "3    Dec\n",
       "5    Dec\n",
       "Name: issue_month, dtype: object"
      ]
     },
     "execution_count": 70,
     "metadata": {},
     "output_type": "execute_result"
    }
   ],
   "source": [
    "df_loan_data_uni['issue_month'].head()"
   ]
  },
  {
   "cell_type": "code",
   "execution_count": 71,
   "id": "2760c92b-0286-432a-a1fb-bbcd9f25e502",
   "metadata": {},
   "outputs": [],
   "source": [
    "df_loan_data_uni['issue_year']=df_loan_data_uni['issue_d'].apply(lambda x: ('20'+str.split(x,\"-\")[1]))"
   ]
  },
  {
   "cell_type": "code",
   "execution_count": 72,
   "id": "f7f0f80d-e6e9-4e3c-833e-d67189b65abc",
   "metadata": {},
   "outputs": [
    {
     "data": {
      "text/plain": [
       "0    2011\n",
       "1    2011\n",
       "2    2011\n",
       "3    2011\n",
       "5    2011\n",
       "Name: issue_year, dtype: object"
      ]
     },
     "execution_count": 72,
     "metadata": {},
     "output_type": "execute_result"
    }
   ],
   "source": [
    "df_loan_data_uni['issue_year'].head()"
   ]
  },
  {
   "cell_type": "markdown",
   "id": "b96e21d7-4d4c-49ae-aca3-c6e7170aa04e",
   "metadata": {},
   "source": [
    "#### 2.2.3 Univariate Analysis"
   ]
  },
  {
   "cell_type": "markdown",
   "id": "62e15b82-6e09-4ebf-b9fa-8d06392c08c8",
   "metadata": {},
   "source": [
    "#### <span style='color:blue'> Analysis 1 : Loan Amount Distribution"
   ]
  },
  {
   "cell_type": "code",
   "execution_count": 75,
   "id": "6ba6cfac-80ed-4541-aceb-2e254ff62b6c",
   "metadata": {},
   "outputs": [
    {
     "data": {
      "image/png": "[encoded data removed]",
      "text/plain": [
       "<Figure size 640x480 with 1 Axes>"
      ]
     },
     "metadata": {},
     "output_type": "display_data"
    }
   ],
   "source": [
    "# title\n",
    "plt.title('Loan Amount Distribution')\n",
    "\n",
    "# xlabel\n",
    "plt.xlabel('Loan Amount')\n",
    "\n",
    "# ylabel\n",
    "plt.ylabel('Frequency')\n",
    "\n",
    "# plot histogram\n",
    "plt.hist(df_loan_data_uni['loan_amnt'], bins=10, color='blue');"
   ]
  },
  {
   "cell_type": "markdown",
   "id": "688f8a0c-8d79-4612-a6eb-733fe06a8c34",
   "metadata": {},
   "source": [
    "##### <span style='color:RED'>Observation 2.2.3.1: Higher number of loan application are observed for lower loan amounts in the range of 5000-10000 USD. There is further drop in applications seeking loans for higher amounts</span>"
   ]
  },
  {
   "cell_type": "markdown",
   "id": "2969bc7c-475c-43a1-aa8f-770a3346ccdc",
   "metadata": {},
   "source": [
    "#### <span style='color:blue'> Analysis 2 : Loan Purposes"
   ]
  },
  {
   "cell_type": "code",
   "execution_count": 78,
   "id": "b211ad2a-6373-4dbd-9ac9-92f910e2b453",
   "metadata": {},
   "outputs": [
    {
     "data": {
      "image/png": "[encoded data removed]",
      "text/plain": [
       "<Figure size 1400x800 with 1 Axes>"
      ]
     },
     "metadata": {},
     "output_type": "display_data"
    }
   ],
   "source": [
    "plt.figure(figsize=(14,8),facecolor='w')\n",
    "with plt.style.context('ggplot'):\n",
    "  ax=sns.countplot(y=\"purpose\",data=df_loan_data_uni,hue='loan_status',palette='Spectral',color='white',)\n",
    "  ax.set(title='Purpose Of Loan')\n",
    "  ax.set_ylabel('Purpose Of Loan',fontsize=14,color='w')\n",
    "  ax.set_xlabel('Count of Loan Application',fontsize=16,color='w')\n",
    "  plt.show()"
   ]
  },
  {
   "cell_type": "markdown",
   "id": "2fae5df5-b5c9-43da-98c9-560b06b19b83",
   "metadata": {},
   "source": [
    "##### <span style='color:RED'>Observation 2.2.3.2: Higher number of loan application are observed for debt consolidation. The defaulters are also higher in this category</span><BR>"
   ]
  },
  {
   "cell_type": "markdown",
   "id": "112b2962-344d-4b23-b9c3-7f712b2a4ad2",
   "metadata": {},
   "source": [
    "#### <span style='color:blue'> Analysis 3 : Loan Charged Off based on Issuance month and year"
   ]
  },
  {
   "cell_type": "code",
   "execution_count": 81,
   "id": "09cf0732-279e-4583-bc28-d086fba7a9fc",
   "metadata": {},
   "outputs": [
    {
     "data": {
      "image/png": "[encoded data removed]",
      "text/plain": [
       "<Figure size 1000x600 with 1 Axes>"
      ]
     },
     "metadata": {},
     "output_type": "display_data"
    }
   ],
   "source": [
    "data1=df_loan_data_uni[df_loan_data_uni['loan_status']=='Charged Off']\n",
    "plt.figure(figsize=(10,6),facecolor='w')\n",
    "plt.subplot(2,2,1)\n",
    "ax1 = sns.countplot(x='issue_month',data=data1,hue='loan_status',palette='GnBu_d')\n",
    "ax1.set(title='Loan Issued vs issue month')\n",
    "ax1.set_xlabel('issue month',fontsize=14,color = 'w')\n",
    "ax1.set_ylabel('Loan Issued',fontsize=14,color = 'w')      \n",
    "ax1.legend(bbox_to_anchor=(1, 1))\n",
    "plt.show()\n"
   ]
  },
  {
   "cell_type": "markdown",
   "id": "9e3c786c-f0b9-4793-9a08-3d35c410e417",
   "metadata": {},
   "source": [
    "##### <span style='color:RED'>Observation 2.2.3.3: There is a higher charge off observed in applications received in the month of December</span><BR>"
   ]
  },
  {
   "cell_type": "code",
   "execution_count": 83,
   "id": "e279fd70-78f1-4bb0-8109-96e21fbaf3ce",
   "metadata": {},
   "outputs": [
    {
     "data": {
      "image/png": "[encoded data removed]",
      "text/plain": [
       "<Figure size 1000x600 with 1 Axes>"
      ]
     },
     "metadata": {},
     "output_type": "display_data"
    }
   ],
   "source": [
    "plt.figure(figsize=(10,6),facecolor='w')\n",
    "plt.subplot(2,2,2)\n",
    "ax2 = sns.countplot(x='issue_year', data=df_loan_data_uni[df_loan_data_uni['loan_status']=='Charged Off'],hue='loan_status',palette='GnBu_d')\n",
    "ax2.set(title='Loan Issued vs issue year')\n",
    "ax2.set_xlabel('issue year',fontsize=14,color = 'w')\n",
    "ax2.set_ylabel('Loan Issued',fontsize=14,color = 'w')      \n",
    "ax2.legend(bbox_to_anchor=(1, 1))\n",
    "plt.show()"
   ]
  },
  {
   "cell_type": "markdown",
   "id": "90ab409a-d165-4c4f-bc87-ee15cd7e9bfa",
   "metadata": {},
   "source": [
    "##### <span style='color:RED'>Observation 2.2.3.4: Number of loan applications have increased sincethe year 2007. The application have alomost doubled in 2011 as compared to 2010. This indicates a healthy loan market for the bank which is attracting these applications</span><BR>"
   ]
  },
  {
   "cell_type": "markdown",
   "id": "dbef28d6-ea41-4292-b0a1-9f9eed4c8b64",
   "metadata": {},
   "source": [
    "#### Analysis 4: Loan Interest Distribution"
   ]
  },
  {
   "cell_type": "code",
   "execution_count": 86,
   "id": "973fcbee-ae56-4f36-b438-8d9244a6603e",
   "metadata": {},
   "outputs": [
    {
     "data": {
      "image/png": "[encoded data removed]",
      "text/plain": [
       "<Figure size 640x480 with 1 Axes>"
      ]
     },
     "metadata": {},
     "output_type": "display_data"
    }
   ],
   "source": [
    "# title\n",
    "plt.title('Loan Interest Distribution')\n",
    "\n",
    "# xlabel\n",
    "plt.xlabel('Interest Rate')\n",
    "\n",
    "# ylabel\n",
    "plt.ylabel('Frequency')\n",
    "\n",
    "# plot histogram\n",
    "plt.hist(df_loan_data_uni['int_rate'], bins=10, color='lightblue');"
   ]
  },
  {
   "cell_type": "markdown",
   "id": "b760001c-b20d-4829-a1fc-12108617256d",
   "metadata": {},
   "source": [
    "##### <span style='color:RED'>Observation 2.2.3.5: There are more applicants with interest rate of 10 to 15%</span><BR>"
   ]
  },
  {
   "cell_type": "markdown",
   "id": "facc72f7-cb2e-4a91-93c6-79b4b00fb837",
   "metadata": {},
   "source": [
    "#### Analysis 5: Homeownership distribution | Unordered Categorical"
   ]
  },
  {
   "cell_type": "code",
   "execution_count": 89,
   "id": "b0d193d4-b3dd-40de-9db3-243429deeaf0",
   "metadata": {
    "scrolled": true
   },
   "outputs": [
    {
     "data": {
      "image/png": "[encoded data removed]",
      "text/plain": [
       "<Figure size 1200x200 with 1 Axes>"
      ]
     },
     "metadata": {},
     "output_type": "display_data"
    }
   ],
   "source": [
    "plt.figure(figsize=(12,2),facecolor='w')\n",
    "with plt.style.context('ggplot'):\n",
    "  ax=sns.countplot(y=\"home_ownership\",data=df_loan_data_uni,hue='home_ownership')\n",
    "  ax.set(title='Ownership')\n",
    "  ax.set_ylabel('Ownership',fontsize=14,color='w')\n",
    "  ax.set_xlabel('Count of Loan Application',fontsize=16,color='w')\n",
    "  sns.dark_palette(\"#69d\", reverse=True, as_cmap=True)\n",
    "  plt.show()"
   ]
  },
  {
   "cell_type": "code",
   "execution_count": 90,
   "id": "78e8ca91-aba2-42c6-9220-54bd6717bb5a",
   "metadata": {},
   "outputs": [
    {
     "data": {
      "image/png": "[encoded data removed]",
      "text/plain": [
       "<Figure size 1200x200 with 1 Axes>"
      ]
     },
     "metadata": {},
     "output_type": "display_data"
    }
   ],
   "source": [
    "data1=df_loan_data_uni[df_loan_data_uni['loan_status']=='Charged Off']\n",
    "\n",
    "plt.figure(figsize=(12,2),facecolor='w')\n",
    "with plt.style.context('ggplot'):\n",
    "  ax=sns.countplot(y=\"home_ownership\",data=data1,hue='home_ownership')\n",
    "  ax.set(title='Ownership for Charged Off Loan')\n",
    "  ax.set_ylabel('Ownership',fontsize=14,color='w')\n",
    "  ax.set_xlabel('Count of Loan Application',fontsize=16,color='w')\n",
    "  plt.show()"
   ]
  },
  {
   "cell_type": "markdown",
   "id": "bd1bdb79-af0d-45f1-be64-c92216d86673",
   "metadata": {},
   "source": [
    "<span style='color:RED'>\n",
    "Observation 2.2.3.6: \n",
    "<LI>There are more applicants who are residing in rental properties followed by those who have mortgaged their property</LI>\n",
    "<LI>There defaulters also show a similar pattern</LI>\n",
    "</span><BR>"
   ]
  },
  {
   "cell_type": "markdown",
   "id": "6242a080-842f-440a-95ce-9b32020b5684",
   "metadata": {},
   "source": [
    "#### Analysis 6: Term Requested | Ordered Categorical"
   ]
  },
  {
   "cell_type": "code",
   "execution_count": 93,
   "id": "91be997f-4ea9-4a3e-88f7-97998353e86e",
   "metadata": {},
   "outputs": [
    {
     "data": {
      "image/png": "[encoded data removed]",
      "text/plain": [
       "<Figure size 640x480 with 1 Axes>"
      ]
     },
     "metadata": {},
     "output_type": "display_data"
    }
   ],
   "source": [
    "# title\n",
    "plt.title('Term Distribution')\n",
    "\n",
    "# xlabel\n",
    "plt.xlabel('Term',loc='center')\n",
    "\n",
    "# ylabel\n",
    "plt.ylabel('No of borrowers')\n",
    "\n",
    "# plot histogram\n",
    "plt.hist(df_loan_data_uni['term'], bins=2, color='lightblue',orientation='vertical');"
   ]
  },
  {
   "cell_type": "markdown",
   "id": "8135e578-229a-4a9a-abc0-7d9f17a59339",
   "metadata": {},
   "source": [
    "<span style='color:RED'>\n",
    "Observation 2.2.3.7: \n",
    "<LI>There are more applicants seeking a loan for a tenure of 36 months</LI>\n",
    "</span><BR>"
   ]
  },
  {
   "cell_type": "markdown",
   "id": "f8fe4cac-02ed-41d4-8d5e-cb958eaf49f7",
   "metadata": {},
   "source": [
    "#### Analysis 7: Employment Grade wise defaulters"
   ]
  },
  {
   "cell_type": "code",
   "execution_count": 96,
   "id": "c8111140-73c4-4a5a-bd4f-7bd65b085df2",
   "metadata": {},
   "outputs": [
    {
     "data": {
      "image/png": "[encoded data removed]",
      "text/plain": [
       "<Figure size 640x480 with 1 Axes>"
      ]
     },
     "metadata": {},
     "output_type": "display_data"
    }
   ],
   "source": [
    "data1=df_loan_data_uni[df_loan_data_uni['loan_status']=='Charged Off']\n",
    "\n",
    "# title\n",
    "plt.title('Grade-wise Distribution of Charged-off Loan')\n",
    "\n",
    "# xlabel\n",
    "plt.xlabel('grade',loc='center')\n",
    "\n",
    "# ylabel\n",
    "plt.ylabel('No of borrowers')\n",
    "\n",
    "data1=data1.sort_values(by=('grade'), ascending=True)\n",
    "\n",
    "# plot histogram\n",
    "plt.hist(data1['grade'], bins=7);"
   ]
  },
  {
   "cell_type": "markdown",
   "id": "df601154-69e8-462d-b913-db7d459b54a9",
   "metadata": {},
   "source": [
    "<span style='color:RED'>\n",
    "Observation 2.2.3.8: \n",
    "<LI>There are more defaulters in the B,C and D grades than the other grades</LI>\n",
    "</span><BR>"
   ]
  },
  {
   "cell_type": "markdown",
   "id": "30cf0e10-fb90-4f03-8137-0ff81a89141e",
   "metadata": {},
   "source": [
    "#### Analysis 8: Univariate Analysis - Unordered Categorical Variables - Loan Status\n",
    "\n"
   ]
  },
  {
   "cell_type": "code",
   "execution_count": 99,
   "id": "c2f04c95-ab39-42de-a7ec-789366e4138b",
   "metadata": {},
   "outputs": [
    {
     "data": {
      "image/png": "[encoded data removed]",
      "text/plain": [
       "<Figure size 640x480 with 1 Axes>"
      ]
     },
     "metadata": {},
     "output_type": "display_data"
    }
   ],
   "source": [
    "# title\n",
    "plt.title(' Loan Status')\n",
    "\n",
    "# xlabel\n",
    "plt.xlabel('Term',loc='center')\n",
    "\n",
    "# ylabel\n",
    "plt.ylabel('No of borrowers')\n",
    "\n",
    "# plot histogram\n",
    "plt.hist(df_loan_data_uni['loan_status'], bins=2, color='lightblue',orientation='vertical');"
   ]
  },
  {
   "cell_type": "code",
   "execution_count": 100,
   "id": "aff6bb84-f5a2-40a7-9adf-59640e5b9212",
   "metadata": {},
   "outputs": [
    {
     "data": {
      "text/plain": [
       "loan_status\n",
       "Fully Paid     85.219147\n",
       "Charged Off    14.780853\n",
       "Name: proportion, dtype: float64"
      ]
     },
     "execution_count": 100,
     "metadata": {},
     "output_type": "execute_result"
    }
   ],
   "source": [
    "df_loan_data_uni['loan_status'].value_counts(normalize=True)*100"
   ]
  },
  {
   "cell_type": "markdown",
   "id": "6bd4060a-acf5-45e8-b525-40c9f9ab61de",
   "metadata": {},
   "source": [
    "<span style='color:RED'>\n",
    "Observation 2.2.3.9: \n",
    "<LI>About 14.7% of the loan applications tend to default and their loans are charged-off</LI>\n",
    "</span><BR>"
   ]
  },
  {
   "cell_type": "markdown",
   "id": "eaa46960-5155-43d4-bc66-b6e44d3d2157",
   "metadata": {},
   "source": [
    "#### Analysis 9: Univariate Analysis - Ordered Categorical Variables - Employement Length of charged off loans¶"
   ]
  },
  {
   "cell_type": "code",
   "execution_count": 103,
   "id": "4b5220d6-d700-4f3e-85ad-6dd59206bcaf",
   "metadata": {},
   "outputs": [
    {
     "data": {
      "image/png": "[encoded data removed]",
      "text/plain": [
       "<Figure size 1200x800 with 1 Axes>"
      ]
     },
     "metadata": {},
     "output_type": "display_data"
    }
   ],
   "source": [
    "data1=df_loan_data_uni[df_loan_data_uni['loan_status']=='Charged Off']\n",
    "plt.figure(figsize=(12,8),facecolor='w')\n",
    "with plt.style.context('ggplot'):\n",
    "  ax=sns.countplot(y=\"emp_length\",data=data1,hue='emp_length')\n",
    "  ax.set(title='Emp Length for Charged Off Loan')\n",
    "  ax.set_ylabel('emp_length',fontsize=14,color='w')\n",
    "  ax.set_xlabel('Count of Loan Application',fontsize=16,color='w')\n",
    "  plt.show()"
   ]
  },
  {
   "cell_type": "markdown",
   "id": "a88f7679-da14-4ee3-af89-d2c30215c213",
   "metadata": {},
   "source": [
    "<span style='color:RED'>\n",
    "Observation 2.2.3.10: \n",
    "<LI>There is a high number of defaulters with more than 10 years of employment history. The bank needs to further scrutinise these application for authenticity</LI>\n",
    "</span><BR"
   ]
  },
  {
   "cell_type": "markdown",
   "id": "f8eacc2e-17aa-4418-9078-1bea4bf2b879",
   "metadata": {},
   "source": [
    "### 2.3 Bivariate Analysis"
   ]
  },
  {
   "cell_type": "markdown",
   "id": "a40dfb49-1111-4c7d-b0a8-398beee33a70",
   "metadata": {},
   "source": [
    "#### 2.3.1 Derive Data for Bivariate Analysis"
   ]
  },
  {
   "cell_type": "code",
   "execution_count": 107,
   "id": "20d41db1-cc77-4126-9f92-498170a03d6e",
   "metadata": {},
   "outputs": [],
   "source": [
    "df_loan_data_bi=df_loan_data"
   ]
  },
  {
   "cell_type": "code",
   "execution_count": 108,
   "id": "11640d09-b5fd-4279-b479-0451e5321c4b",
   "metadata": {},
   "outputs": [
    {
     "data": {
      "text/plain": [
       "count    36642.000000\n",
       "mean     10681.045658\n",
       "std       7047.619569\n",
       "min        500.000000\n",
       "25%       5000.000000\n",
       "50%       9250.000000\n",
       "75%      15000.000000\n",
       "max      35000.000000\n",
       "Name: loan_amnt, dtype: float64"
      ]
     },
     "execution_count": 108,
     "metadata": {},
     "output_type": "execute_result"
    }
   ],
   "source": [
    "df_loan_data_bi['loan_amnt'].describe()"
   ]
  },
  {
   "cell_type": "markdown",
   "id": "3b610828-929f-4791-a0bc-e239ba13d0b3",
   "metadata": {},
   "source": [
    "#systax of pandas cut <BR>\n",
    "#pandas.cut(x, bins, right=True, labels=None, retbins=False, precision=3, include_lowest=False, duplicates='raise', ordered=True)[source]"
   ]
  },
  {
   "cell_type": "code",
   "execution_count": 110,
   "id": "dc39e979-81f7-4d77-89dc-8ebb16674772",
   "metadata": {},
   "outputs": [],
   "source": [
    "#Creating categories for loan amounts\n",
    "df_loan_data_bi['loan_amnt_cat']=pd.cut(df_loan_data_bi['loan_amnt'],[0,7000,14000,21000,28000,35000],labels=['0-7000','7000-14000','14000-21000','21000-28000','28000+'])"
   ]
  },
  {
   "cell_type": "code",
   "execution_count": 111,
   "id": "442c71ae-eaa0-4b94-abe0-4940eac8da88",
   "metadata": {},
   "outputs": [
    {
     "data": {
      "text/plain": [
       "count    36642.000000\n",
       "mean        13.447256\n",
       "std          6.661561\n",
       "min          0.000000\n",
       "25%          8.350000\n",
       "50%         13.580000\n",
       "75%         18.717500\n",
       "max         29.990000\n",
       "Name: dti, dtype: float64"
      ]
     },
     "execution_count": 111,
     "metadata": {},
     "output_type": "execute_result"
    }
   ],
   "source": [
    "df_loan_data_bi['dti'].describe()"
   ]
  },
  {
   "cell_type": "code",
   "execution_count": 112,
   "id": "3fe6fb2b-0ca1-42a8-a369-1dc45aac6371",
   "metadata": {},
   "outputs": [],
   "source": [
    "#Creating dti into buckets for analysis\n",
    "df_loan_data_bi['dti_categories']=pd.cut(df_loan_data_bi['dti'],[0,5,10,15,20,25],labels=['0-5','5-10','10-13.5','13.5-20','25+'])"
   ]
  },
  {
   "cell_type": "code",
   "execution_count": 113,
   "id": "b32fea28-d2ad-4c42-b4fb-2054c34e9b3b",
   "metadata": {},
   "outputs": [
    {
     "data": {
      "text/plain": [
       "count     36642.000000\n",
       "mean      60829.831120\n",
       "std       27717.831464\n",
       "min        4000.000000\n",
       "25%       40000.000000\n",
       "50%       56000.000000\n",
       "75%       77704.050000\n",
       "max      140000.000000\n",
       "Name: annual_inc, dtype: float64"
      ]
     },
     "execution_count": 113,
     "metadata": {},
     "output_type": "execute_result"
    }
   ],
   "source": [
    "df_loan_data_bi['annual_inc'].describe()"
   ]
  },
  {
   "cell_type": "code",
   "execution_count": 114,
   "id": "54f46abe-b40c-47e0-8655-60db89ce2754",
   "metadata": {},
   "outputs": [],
   "source": [
    "#Creating categories for annual incomes\n",
    "df_loan_data_bi['annual_inc_cat']=pd.cut(df_loan_data_bi['annual_inc'],[0,20000,40000,60000,80000,1000000],labels=['0-20000','20000-40000','40000-60000','60000-80000','80000+'])"
   ]
  },
  {
   "cell_type": "code",
   "execution_count": 115,
   "id": "7748aed6-e6ec-48fc-8334-59575eee21e5",
   "metadata": {},
   "outputs": [
    {
     "data": {
      "text/plain": [
       "count    36642.000000\n",
       "mean        11.887884\n",
       "std          3.667161\n",
       "min          5.420000\n",
       "25%          8.940000\n",
       "50%         11.710000\n",
       "75%         14.270000\n",
       "max         24.400000\n",
       "Name: int_rate, dtype: float64"
      ]
     },
     "execution_count": 115,
     "metadata": {},
     "output_type": "execute_result"
    }
   ],
   "source": [
    "df_loan_data_bi['int_rate'].describe()"
   ]
  },
  {
   "cell_type": "code",
   "execution_count": 116,
   "id": "81c5d41a-c6a6-48ac-aee8-9f1978a02e86",
   "metadata": {},
   "outputs": [],
   "source": [
    "#Creating categories for interest rates\n",
    "df_loan_data_bi['interest_rate_cat']=pd.cut(df_loan_data_bi['int_rate'],[0,10,12.5,16,20],labels=['0-10','10-13','13-16','16+'])"
   ]
  },
  {
   "cell_type": "markdown",
   "id": "b4b09087-103e-40be-ad37-edd078c4639f",
   "metadata": {},
   "source": [
    "### 2.3.2 Bivariate analysis on continuous variables"
   ]
  },
  {
   "cell_type": "code",
   "execution_count": 118,
   "id": "e84663d2-f22e-4834-a6c3-a37df2db5fc9",
   "metadata": {},
   "outputs": [
    {
     "data": {
      "text/plain": [
       "Index(['id', 'member_id', 'loan_amnt', 'funded_amnt', 'funded_amnt_inv',\n",
       "       'int_rate', 'installment', 'annual_inc', 'dti', 'delinq_2yrs',\n",
       "       'inq_last_6mths', 'mths_since_last_delinq', 'mths_since_last_record',\n",
       "       'open_acc', 'pub_rec', 'revol_bal', 'total_acc', 'out_prncp',\n",
       "       'out_prncp_inv', 'total_pymnt', 'total_pymnt_inv', 'total_rec_prncp',\n",
       "       'total_rec_int', 'total_rec_late_fee', 'recoveries',\n",
       "       'collection_recovery_fee', 'last_pymnt_amnt',\n",
       "       'collections_12_mths_ex_med', 'policy_code', 'acc_now_delinq',\n",
       "       'chargeoff_within_12_mths', 'delinq_amnt', 'pub_rec_bankruptcies',\n",
       "       'tax_liens'],\n",
       "      dtype='object')"
      ]
     },
     "execution_count": 118,
     "metadata": {},
     "output_type": "execute_result"
    }
   ],
   "source": [
    "df_loan_data_bi.describe().columns"
   ]
  },
  {
   "cell_type": "code",
   "execution_count": 119,
   "id": "99acf1a6-c91e-412f-b26b-f6ada3e48bb5",
   "metadata": {},
   "outputs": [],
   "source": [
    "#Remove further unwannted columns\n",
    "column_to_drop=[\"application_type\",\"policy_code\",\"initial_list_status\",\"installment\",\"pymnt_plan\"]\n",
    "df_loan_data_bi.drop(labels=column_to_drop,axis=1,inplace=True)"
   ]
  },
  {
   "cell_type": "code",
   "execution_count": 120,
   "id": "b5d9d6fd-7ae1-4355-a6ef-5886c4a370ff",
   "metadata": {},
   "outputs": [],
   "source": [
    "# Arrive at columns for correlation. This list was arrived at after mutiple iterations\n",
    "\n",
    "df_loan_corr= df_loan_data_bi[['loan_amnt', 'funded_amnt', 'funded_amnt_inv',\n",
    "        'int_rate','annual_inc','dti','revol_bal', 'total_pymnt']]"
   ]
  },
  {
   "cell_type": "code",
   "execution_count": 121,
   "id": "ece6c173-3eff-4d66-abcd-25af91907fbc",
   "metadata": {},
   "outputs": [
    {
     "data": {
      "text/html": [
       "<div>\n",
       "<style scoped>\n",
       "    .dataframe tbody tr th:only-of-type {\n",
       "        vertical-align: middle;\n",
       "    }\n",
       "\n",
       "    .dataframe tbody tr th {\n",
       "        vertical-align: top;\n",
       "    }\n",
       "\n",
       "    .dataframe thead th {\n",
       "        text-align: right;\n",
       "    }\n",
       "</style>\n",
       "<table border=\"1\" class=\"dataframe\">\n",
       "  <thead>\n",
       "    <tr style=\"text-align: right;\">\n",
       "      <th></th>\n",
       "      <th>loan_amnt</th>\n",
       "      <th>funded_amnt</th>\n",
       "      <th>funded_amnt_inv</th>\n",
       "      <th>int_rate</th>\n",
       "      <th>annual_inc</th>\n",
       "      <th>dti</th>\n",
       "      <th>revol_bal</th>\n",
       "      <th>total_pymnt</th>\n",
       "    </tr>\n",
       "  </thead>\n",
       "  <tbody>\n",
       "    <tr>\n",
       "      <th>loan_amnt</th>\n",
       "      <td>1.000000</td>\n",
       "      <td>0.981940</td>\n",
       "      <td>0.936901</td>\n",
       "      <td>0.291145</td>\n",
       "      <td>0.403358</td>\n",
       "      <td>0.090237</td>\n",
       "      <td>0.312939</td>\n",
       "      <td>0.876601</td>\n",
       "    </tr>\n",
       "    <tr>\n",
       "      <th>funded_amnt</th>\n",
       "      <td>0.981940</td>\n",
       "      <td>1.000000</td>\n",
       "      <td>0.954829</td>\n",
       "      <td>0.296134</td>\n",
       "      <td>0.399203</td>\n",
       "      <td>0.089438</td>\n",
       "      <td>0.304872</td>\n",
       "      <td>0.893239</td>\n",
       "    </tr>\n",
       "    <tr>\n",
       "      <th>funded_amnt_inv</th>\n",
       "      <td>0.936901</td>\n",
       "      <td>0.954829</td>\n",
       "      <td>1.000000</td>\n",
       "      <td>0.288743</td>\n",
       "      <td>0.382540</td>\n",
       "      <td>0.097037</td>\n",
       "      <td>0.285374</td>\n",
       "      <td>0.868781</td>\n",
       "    </tr>\n",
       "    <tr>\n",
       "      <th>int_rate</th>\n",
       "      <td>0.291145</td>\n",
       "      <td>0.296134</td>\n",
       "      <td>0.288743</td>\n",
       "      <td>1.000000</td>\n",
       "      <td>0.053952</td>\n",
       "      <td>0.111587</td>\n",
       "      <td>0.080722</td>\n",
       "      <td>0.279973</td>\n",
       "    </tr>\n",
       "    <tr>\n",
       "      <th>annual_inc</th>\n",
       "      <td>0.403358</td>\n",
       "      <td>0.399203</td>\n",
       "      <td>0.382540</td>\n",
       "      <td>0.053952</td>\n",
       "      <td>1.000000</td>\n",
       "      <td>-0.072526</td>\n",
       "      <td>0.397680</td>\n",
       "      <td>0.382223</td>\n",
       "    </tr>\n",
       "    <tr>\n",
       "      <th>dti</th>\n",
       "      <td>0.090237</td>\n",
       "      <td>0.089438</td>\n",
       "      <td>0.097037</td>\n",
       "      <td>0.111587</td>\n",
       "      <td>-0.072526</td>\n",
       "      <td>1.000000</td>\n",
       "      <td>0.270878</td>\n",
       "      <td>0.086089</td>\n",
       "    </tr>\n",
       "    <tr>\n",
       "      <th>revol_bal</th>\n",
       "      <td>0.312939</td>\n",
       "      <td>0.304872</td>\n",
       "      <td>0.285374</td>\n",
       "      <td>0.080722</td>\n",
       "      <td>0.397680</td>\n",
       "      <td>0.270878</td>\n",
       "      <td>1.000000</td>\n",
       "      <td>0.283070</td>\n",
       "    </tr>\n",
       "    <tr>\n",
       "      <th>total_pymnt</th>\n",
       "      <td>0.876601</td>\n",
       "      <td>0.893239</td>\n",
       "      <td>0.868781</td>\n",
       "      <td>0.279973</td>\n",
       "      <td>0.382223</td>\n",
       "      <td>0.086089</td>\n",
       "      <td>0.283070</td>\n",
       "      <td>1.000000</td>\n",
       "    </tr>\n",
       "  </tbody>\n",
       "</table>\n",
       "</div>"
      ],
      "text/plain": [
       "                 loan_amnt  funded_amnt  funded_amnt_inv  int_rate  \\\n",
       "loan_amnt         1.000000     0.981940         0.936901  0.291145   \n",
       "funded_amnt       0.981940     1.000000         0.954829  0.296134   \n",
       "funded_amnt_inv   0.936901     0.954829         1.000000  0.288743   \n",
       "int_rate          0.291145     0.296134         0.288743  1.000000   \n",
       "annual_inc        0.403358     0.399203         0.382540  0.053952   \n",
       "dti               0.090237     0.089438         0.097037  0.111587   \n",
       "revol_bal         0.312939     0.304872         0.285374  0.080722   \n",
       "total_pymnt       0.876601     0.893239         0.868781  0.279973   \n",
       "\n",
       "                 annual_inc       dti  revol_bal  total_pymnt  \n",
       "loan_amnt          0.403358  0.090237   0.312939     0.876601  \n",
       "funded_amnt        0.399203  0.089438   0.304872     0.893239  \n",
       "funded_amnt_inv    0.382540  0.097037   0.285374     0.868781  \n",
       "int_rate           0.053952  0.111587   0.080722     0.279973  \n",
       "annual_inc         1.000000 -0.072526   0.397680     0.382223  \n",
       "dti               -0.072526  1.000000   0.270878     0.086089  \n",
       "revol_bal          0.397680  0.270878   1.000000     0.283070  \n",
       "total_pymnt        0.382223  0.086089   0.283070     1.000000  "
      ]
     },
     "execution_count": 121,
     "metadata": {},
     "output_type": "execute_result"
    }
   ],
   "source": [
    "loan_corr=df_loan_corr.corr(method='pearson', min_periods=1, numeric_only=False)\n",
    "loan_corr"
   ]
  },
  {
   "cell_type": "code",
   "execution_count": 122,
   "id": "e3526caf-61d3-4481-b85c-1f3b904e9e06",
   "metadata": {},
   "outputs": [
    {
     "data": {
      "image/png": "[encoded data removed]",
      "text/plain": [
       "<Figure size 1500x700 with 2 Axes>"
      ]
     },
     "metadata": {},
     "output_type": "display_data"
    }
   ],
   "source": [
    "plt.figure(figsize=(15,7))\n",
    "sns.heatmap(loan_corr,annot=True)\n",
    "plt.show()"
   ]
  },
  {
   "cell_type": "markdown",
   "id": "554f1189-65c8-468d-b452-80a4f854dad8",
   "metadata": {},
   "source": [
    "#### Loan Amount,Funding Amount and Investor Amount have strong postive correlation\n",
    "\n",
    "#### Annual Income to Debt-To-Income Ratio are negatively correlated\n",
    "\n",
    "#### Positive correlation between annual income and funded amount which implies that applicants with high income gets high funded amount\n",
    "\n",
    "#### There is a positive correlation between annual income and total payment  \n"
   ]
  },
  {
   "cell_type": "markdown",
   "id": "05b99f30-8e1e-41f0-9cbc-f3ebc62bf72d",
   "metadata": {},
   "source": [
    "### 2.3.3 Bivariate Analysis on key indicators\n",
    "### - Purpose vs Loan Amount\n",
    "### - Purpose vs Interest Rate\n",
    "### - Loan Amount vs Interest Rate\n",
    "### - dti vs Interest Rate"
   ]
  },
  {
   "cell_type": "code",
   "execution_count": 125,
   "id": "0372e059-d639-4f00-a2b5-7b708cd96711",
   "metadata": {},
   "outputs": [
    {
     "data": {
      "text/plain": [
       "(36642, 57)"
      ]
     },
     "execution_count": 125,
     "metadata": {},
     "output_type": "execute_result"
    }
   ],
   "source": [
    "# Shape of the dataframe used for below analysis\n",
    "df_loan_data_bi.shape "
   ]
  },
  {
   "cell_type": "code",
   "execution_count": 126,
   "id": "09b6f743-bd24-4c3b-8076-6c317ae370aa",
   "metadata": {},
   "outputs": [],
   "source": [
    "#### Purpose vs Interest Rate"
   ]
  },
  {
   "cell_type": "code",
   "execution_count": 127,
   "id": "ee16be4f-7c3c-4c00-b5b2-251396d3c5e3",
   "metadata": {},
   "outputs": [
    {
     "data": {
      "image/png": "[encoded data removed]",
      "text/plain": [
       "<Figure size 1200x700 with 1 Axes>"
      ]
     },
     "metadata": {},
     "output_type": "display_data"
    }
   ],
   "source": [
    "with plt.style.context('ggplot'):\n",
    "  fig, ax1 = plt.subplots(figsize=(12, 7),facecolor='w')\n",
    "  ax1.set_title('Purpose vs Loan Amount',fontsize=15,color='b')\n",
    "  ax1=sns.barplot(x='loan_amnt', y='purpose', data=df_loan_data_bi)\n",
    "  ax1.set_xlabel('Loan Amount',fontsize=14,color='b')\n",
    "  ax1.set_ylabel('Purpose',fontsize=14,color = 'b')\n",
    "  plt.show()\n",
    "    "
   ]
  },
  {
   "cell_type": "markdown",
   "id": "21adb79f-d471-4140-ad07-c528df9c2170",
   "metadata": {},
   "source": [
    "##### <span style='color:RED'>Observation 2.3.3.1. Small business, Debt Consolidation and House were the 3 top purpose where loan amount requested was the highest"
   ]
  },
  {
   "cell_type": "markdown",
   "id": "6414968a-3258-47cb-8b37-33eb20875544",
   "metadata": {},
   "source": [
    "#### Purpose vs Interest Rate"
   ]
  },
  {
   "cell_type": "code",
   "execution_count": 130,
   "id": "aca2e090-c4d2-4a39-b602-699055ce48fe",
   "metadata": {},
   "outputs": [
    {
     "data": {
      "text/html": [
       "<div>\n",
       "<style scoped>\n",
       "    .dataframe tbody tr th:only-of-type {\n",
       "        vertical-align: middle;\n",
       "    }\n",
       "\n",
       "    .dataframe tbody tr th {\n",
       "        vertical-align: top;\n",
       "    }\n",
       "\n",
       "    .dataframe thead th {\n",
       "        text-align: right;\n",
       "    }\n",
       "</style>\n",
       "<table border=\"1\" class=\"dataframe\">\n",
       "  <thead>\n",
       "    <tr style=\"text-align: right;\">\n",
       "      <th></th>\n",
       "      <th>int_rate</th>\n",
       "    </tr>\n",
       "    <tr>\n",
       "      <th>purpose</th>\n",
       "      <th></th>\n",
       "    </tr>\n",
       "  </thead>\n",
       "  <tbody>\n",
       "    <tr>\n",
       "      <th>small_business</th>\n",
       "      <td>12.876802</td>\n",
       "    </tr>\n",
       "    <tr>\n",
       "      <th>debt_consolidation</th>\n",
       "      <td>12.344373</td>\n",
       "    </tr>\n",
       "    <tr>\n",
       "      <th>house</th>\n",
       "      <td>12.074527</td>\n",
       "    </tr>\n",
       "    <tr>\n",
       "      <th>wedding</th>\n",
       "      <td>11.743117</td>\n",
       "    </tr>\n",
       "    <tr>\n",
       "      <th>other</th>\n",
       "      <td>11.664694</td>\n",
       "    </tr>\n",
       "    <tr>\n",
       "      <th>educational</th>\n",
       "      <td>11.627115</td>\n",
       "    </tr>\n",
       "    <tr>\n",
       "      <th>credit_card</th>\n",
       "      <td>11.572319</td>\n",
       "    </tr>\n",
       "    <tr>\n",
       "      <th>moving</th>\n",
       "      <td>11.486891</td>\n",
       "    </tr>\n",
       "    <tr>\n",
       "      <th>medical</th>\n",
       "      <td>11.456000</td>\n",
       "    </tr>\n",
       "    <tr>\n",
       "      <th>renewable_energy</th>\n",
       "      <td>11.358526</td>\n",
       "    </tr>\n",
       "    <tr>\n",
       "      <th>home_improvement</th>\n",
       "      <td>11.185292</td>\n",
       "    </tr>\n",
       "    <tr>\n",
       "      <th>vacation</th>\n",
       "      <td>10.828904</td>\n",
       "    </tr>\n",
       "    <tr>\n",
       "      <th>major_purchase</th>\n",
       "      <td>10.784029</td>\n",
       "    </tr>\n",
       "    <tr>\n",
       "      <th>car</th>\n",
       "      <td>10.482417</td>\n",
       "    </tr>\n",
       "  </tbody>\n",
       "</table>\n",
       "</div>"
      ],
      "text/plain": [
       "                     int_rate\n",
       "purpose                      \n",
       "small_business      12.876802\n",
       "debt_consolidation  12.344373\n",
       "house               12.074527\n",
       "wedding             11.743117\n",
       "other               11.664694\n",
       "educational         11.627115\n",
       "credit_card         11.572319\n",
       "moving              11.486891\n",
       "medical             11.456000\n",
       "renewable_energy    11.358526\n",
       "home_improvement    11.185292\n",
       "vacation            10.828904\n",
       "major_purchase      10.784029\n",
       "car                 10.482417"
      ]
     },
     "execution_count": 130,
     "metadata": {},
     "output_type": "execute_result"
    }
   ],
   "source": [
    "df_loan_data_bi[['int_rate','purpose']].groupby('purpose').agg({'int_rate':'mean'}).sort_values(by='int_rate', ascending=False)"
   ]
  },
  {
   "cell_type": "code",
   "execution_count": 131,
   "id": "3d885446-9a50-4cb2-99cf-9dd9fe995233",
   "metadata": {
    "collapsed": true,
    "jupyter": {
     "outputs_hidden": true
    },
    "scrolled": true
   },
   "outputs": [
    {
     "data": {
      "image/png": "[encoded data removed]",
      "text/plain": [
       "<Figure size 1200x700 with 1 Axes>"
      ]
     },
     "metadata": {},
     "output_type": "display_data"
    }
   ],
   "source": [
    "with plt.style.context('ggplot'):\n",
    "  fig, ax1 = plt.subplots(figsize=(12, 7),facecolor='w')\n",
    "  ax1.set_title('Purpose vs Interest Rate',fontsize=15,color='b')\n",
    "  ax1=sns.boxplot(x='int_rate', y='purpose', data=df_loan_data_bi,palette='Spectral')\n",
    "  ax1.set_xlabel('Interest Rate',fontsize=14,color='b')\n",
    "  ax1.set_ylabel('Purpose',fontsize=14,color = 'b')\n",
    "  plt.show()"
   ]
  },
  {
   "cell_type": "markdown",
   "id": "5b71f04a-d3f0-48af-900d-1fef859f6649",
   "metadata": {},
   "source": [
    "##### <span style='color:RED'>Observation 2.3.3.2 <BR> <BR> <LI> Small business had the highest average interest rates followed by debt consolidation<BR><BR> <LI> The least average interest was for buying a Car"
   ]
  },
  {
   "cell_type": "markdown",
   "id": "f95e1ca7-9de1-4592-b141-c7d6c9e497a3",
   "metadata": {},
   "source": [
    "#### Loan Amount vs Interest Rate"
   ]
  },
  {
   "cell_type": "code",
   "execution_count": 134,
   "id": "4a43528e-2148-450e-8bed-6a22fb4c5296",
   "metadata": {},
   "outputs": [
    {
     "data": {
      "image/png": "[encoded data removed]",
      "text/plain": [
       "<Figure size 1200x700 with 1 Axes>"
      ]
     },
     "metadata": {},
     "output_type": "display_data"
    }
   ],
   "source": [
    "with plt.style.context('ggplot'):\n",
    "  fig, ax1 = plt.subplots(figsize=(12, 7),facecolor='w')\n",
    "  ax1.set_title('Loan Amount Category vs Interest Rate',fontsize=15,color='b')\n",
    "  ax1=sns.boxplot(x='int_rate', y='loan_amnt_cat', data=df_loan_data_bi,palette='Spectral')\n",
    "  ax1.set_xlabel('Interest Rate',fontsize=14,color='b')\n",
    "  ax1.set_ylabel('Loan Amount Category',fontsize=14,color = 'b')\n",
    "  plt.show()"
   ]
  },
  {
   "cell_type": "markdown",
   "id": "248beccd-c98d-4b8e-89a4-a860733fa682",
   "metadata": {},
   "source": [
    "##### <span style='color:RED'> Observation 2.3.3.3 <BR> <BR><LI> Small business had the highest average interest rates followed by debt consolidation<BR> <LI> The least average interest was for buying a Car\n",
    "</span>"
   ]
  },
  {
   "cell_type": "markdown",
   "id": "6882845d-59f8-48e0-a8e6-eb9234d1ddd7",
   "metadata": {},
   "source": [
    "#### dti vs Interest Rate"
   ]
  },
  {
   "cell_type": "code",
   "execution_count": 193,
   "id": "b72bd2ac-54b7-45f2-8b56-25ea1936556a",
   "metadata": {},
   "outputs": [
    {
     "data": {
      "image/png": "[encoded data removed]",
      "text/plain": [
       "<Figure size 1200x700 with 1 Axes>"
      ]
     },
     "metadata": {},
     "output_type": "display_data"
    }
   ],
   "source": [
    "with plt.style.context('ggplot'):\n",
    "  fig, ax1 = plt.subplots(figsize=(12, 7),facecolor='w')\n",
    "  ax1.set_title('DTI vs Interest Rate Range',fontsize=15,color='b')\n",
    "  ax1=sns.boxplot(x='interest_rate_cat', y='dti', data=df_loan_data_bi,palette='Spectral')\n",
    "  ax1.set_xlabel('Interest Rate',fontsize=14,color='b')\n",
    "  ax1.set_ylabel('DTI',fontsize=14,color = 'b')\n",
    "  plt.show()"
   ]
  },
  {
   "cell_type": "markdown",
   "id": "c96b222c-4244-4413-a902-9d4b714517a5",
   "metadata": {
    "jupyter": {
     "source_hidden": true
    }
   },
   "source": [
    "##### <span style='color:RED'>Observation 2.3.3.4 <BR> <BR> <LI> Average Interests rates are higher for higher DTI. This is true since higher DTI has a higher possibility of default"
   ]
  },
  {
   "cell_type": "code",
   "execution_count": 139,
   "id": "abcd03e9-ebbe-4f49-98eb-616463bd0521",
   "metadata": {},
   "outputs": [],
   "source": [
    "##### Grade vs Interest Rate"
   ]
  },
  {
   "cell_type": "code",
   "execution_count": 140,
   "id": "99442c26-805c-49e4-b4ed-579bab360186",
   "metadata": {},
   "outputs": [
    {
     "data": {
      "image/png": "[encoded data removed]",
      "text/plain": [
       "<Figure size 1200x700 with 1 Axes>"
      ]
     },
     "metadata": {},
     "output_type": "display_data"
    }
   ],
   "source": [
    "df=df_loan_data_bi.sort_values(by='grade')\n",
    "with plt.style.context('ggplot'):\n",
    "  fig, ax1 = plt.subplots(figsize=(12, 7),facecolor='w')\n",
    "  ax1.set_title('Grade vs Interest Rate',fontsize=15,color='b')\n",
    "  ax1=sns.boxplot(y='int_rate', x='grade', data=df,palette='Spectral')\n",
    "  ax1.set_xlabel('Grade',fontsize=14,color = 'b')\n",
    "  ax1.set_ylabel('Interest Rate',fontsize=14,color='b')\n",
    "  plt.show()"
   ]
  },
  {
   "cell_type": "markdown",
   "id": "79087821-94b9-4676-ac19-29aafc15c93e",
   "metadata": {},
   "source": [
    "##### <span style='color:RED'>Observation 2.3.3.5<BR> <BR> <LI> Average Interests rates are higher for lower grades. "
   ]
  },
  {
   "cell_type": "markdown",
   "id": "a8bfe87b-0b87-4b22-8b56-d67486d7a934",
   "metadata": {},
   "source": [
    "### 2.3.4 Bivariate Analysis of Charged-Off Loans"
   ]
  },
  {
   "cell_type": "markdown",
   "id": "9558c093-4aae-4b23-9947-db54f7777a71",
   "metadata": {},
   "source": [
    "#### Since the purpose of this exercise is to help the bank identify high risk loan application we will focus on Charged Off loans to draw insights through bivariate analysis. It was analysed earlier in univariate analysis that around 14% of the loan application had a charged-off status"
   ]
  },
  {
   "cell_type": "code",
   "execution_count": 144,
   "id": "7c9b19a4-ae9f-4269-b941-1ce58851c5b5",
   "metadata": {},
   "outputs": [],
   "source": [
    "# Dataset for analysing Charged off loans\n",
    "df_charged_off = df_loan_data_bi[df_loan_data_uni['loan_status']=='Charged Off']"
   ]
  },
  {
   "cell_type": "code",
   "execution_count": 145,
   "id": "4784244e-3f9b-49a5-83e1-9d03e04f4e97",
   "metadata": {},
   "outputs": [
    {
     "data": {
      "text/plain": [
       "(5416, 57)"
      ]
     },
     "execution_count": 145,
     "metadata": {},
     "output_type": "execute_result"
    }
   ],
   "source": [
    "df_charged_off.shape"
   ]
  },
  {
   "cell_type": "markdown",
   "id": "4608a114-0577-4acd-a4e8-dee441907900",
   "metadata": {},
   "source": [
    "####  <span style='color:BLUE'>Charge Off based on annual income range </span>"
   ]
  },
  {
   "cell_type": "code",
   "execution_count": 147,
   "id": "a054a399-36ea-446d-a94a-739f6b36a58c",
   "metadata": {},
   "outputs": [
    {
     "data": {
      "text/html": [
       "<div>\n",
       "<style scoped>\n",
       "    .dataframe tbody tr th:only-of-type {\n",
       "        vertical-align: middle;\n",
       "    }\n",
       "\n",
       "    .dataframe tbody tr th {\n",
       "        vertical-align: top;\n",
       "    }\n",
       "\n",
       "    .dataframe thead th {\n",
       "        text-align: right;\n",
       "    }\n",
       "</style>\n",
       "<table border=\"1\" class=\"dataframe\">\n",
       "  <thead>\n",
       "    <tr style=\"text-align: right;\">\n",
       "      <th>loan_status</th>\n",
       "      <th>annual_inc_cat</th>\n",
       "      <th>Charged Off</th>\n",
       "      <th>Fully Paid</th>\n",
       "      <th>Total</th>\n",
       "      <th>Chargedoff_Percent</th>\n",
       "    </tr>\n",
       "  </thead>\n",
       "  <tbody>\n",
       "    <tr>\n",
       "      <th>0</th>\n",
       "      <td>0-20000</td>\n",
       "      <td>237</td>\n",
       "      <td>943</td>\n",
       "      <td>1180</td>\n",
       "      <td>20.0</td>\n",
       "    </tr>\n",
       "    <tr>\n",
       "      <th>1</th>\n",
       "      <td>20000-40000</td>\n",
       "      <td>1514</td>\n",
       "      <td>7004</td>\n",
       "      <td>8518</td>\n",
       "      <td>18.0</td>\n",
       "    </tr>\n",
       "    <tr>\n",
       "      <th>2</th>\n",
       "      <td>40000-60000</td>\n",
       "      <td>1729</td>\n",
       "      <td>9534</td>\n",
       "      <td>11263</td>\n",
       "      <td>15.0</td>\n",
       "    </tr>\n",
       "    <tr>\n",
       "      <th>3</th>\n",
       "      <td>60000-80000</td>\n",
       "      <td>1024</td>\n",
       "      <td>6597</td>\n",
       "      <td>7621</td>\n",
       "      <td>13.0</td>\n",
       "    </tr>\n",
       "    <tr>\n",
       "      <th>4</th>\n",
       "      <td>80000+</td>\n",
       "      <td>912</td>\n",
       "      <td>7148</td>\n",
       "      <td>8060</td>\n",
       "      <td>11.0</td>\n",
       "    </tr>\n",
       "  </tbody>\n",
       "</table>\n",
       "</div>"
      ],
      "text/plain": [
       "loan_status annual_inc_cat  Charged Off  Fully Paid  Total  Chargedoff_Percent\n",
       "0                  0-20000          237         943   1180                20.0\n",
       "1              20000-40000         1514        7004   8518                18.0\n",
       "2              40000-60000         1729        9534  11263                15.0\n",
       "3              60000-80000         1024        6597   7621                13.0\n",
       "4                   80000+          912        7148   8060                11.0"
      ]
     },
     "execution_count": 147,
     "metadata": {},
     "output_type": "execute_result"
    }
   ],
   "source": [
    "annual_income_range_v_chargeoff = df_loan_data_bi.groupby(['annual_inc_cat', 'loan_status']).loan_status.count().unstack().fillna(0).reset_index()\n",
    "annual_income_range_v_chargeoff['Total'] = annual_income_range_v_chargeoff['Charged Off'] + annual_income_range_v_chargeoff['Fully Paid'] \n",
    "annual_income_range_v_chargeoff['Chargedoff_Percent'] = round((annual_income_range_v_chargeoff['Charged Off'] / annual_income_range_v_chargeoff['Total'])*100)\n",
    "annual_income_range_v_chargeoff.sort_values('Chargedoff_Percent', ascending=False)"
   ]
  },
  {
   "cell_type": "code",
   "execution_count": 148,
   "id": "12602b0c-447b-4608-a321-f76dbf68b6ad",
   "metadata": {},
   "outputs": [
    {
     "data": {
      "image/png": "[encoded data removed]",
      "text/plain": [
       "<Figure size 1000x700 with 1 Axes>"
      ]
     },
     "metadata": {},
     "output_type": "display_data"
    }
   ],
   "source": [
    "with plt.style.context('ggplot'):\n",
    "  fig, ax1 = plt.subplots(figsize=(12, 7),facecolor='w')\n",
    "  ax1.set_title('Charge Off % vs Annual Income',fontsize=15,color='b')\n",
    "  ax1=sns.barplot(x='annual_inc_cat', y='Chargedoff_Percent', data=annual_income_range_v_chargeoff,palette='Spectral')\n",
    "  ax1.set_xlabel('annual_inc_cat',fontsize=14,color='b')\n",
    "  ax1.set_ylabel('Chargedoff_Percent',fontsize=14,color = 'b')\n",
    "  plt.show()"
   ]
  },
  {
   "cell_type": "markdown",
   "id": "8da435ec-0297-4574-8141-856c64cb1db2",
   "metadata": {},
   "source": [
    "##### <span style='color:RED'>Observation 2.3.4.1<BR> <BR> <LI> There is higher possiblity of charge-off by applicants with lower annual income range of less than 20,000 <BR><BR> <LI> There is a decreasing trans shown at higher annual income categories"
   ]
  },
  {
   "cell_type": "markdown",
   "id": "a66e5671-d8c0-4069-af9f-23e80cdd9622",
   "metadata": {},
   "source": [
    "####  <span style='color:BLUE'> Charged-Off% versus Purpose of Loan </span>\n"
   ]
  },
  {
   "cell_type": "code",
   "execution_count": 170,
   "id": "18e6f92c-5f38-4dc0-9435-5381ad403694",
   "metadata": {},
   "outputs": [
    {
     "data": {
      "text/html": [
       "<div>\n",
       "<style scoped>\n",
       "    .dataframe tbody tr th:only-of-type {\n",
       "        vertical-align: middle;\n",
       "    }\n",
       "\n",
       "    .dataframe tbody tr th {\n",
       "        vertical-align: top;\n",
       "    }\n",
       "\n",
       "    .dataframe thead th {\n",
       "        text-align: right;\n",
       "    }\n",
       "</style>\n",
       "<table border=\"1\" class=\"dataframe\">\n",
       "  <thead>\n",
       "    <tr style=\"text-align: right;\">\n",
       "      <th>loan_status</th>\n",
       "      <th>purpose</th>\n",
       "      <th>Charged Off</th>\n",
       "      <th>Fully Paid</th>\n",
       "      <th>Total</th>\n",
       "      <th>Chargedoff_Percent</th>\n",
       "    </tr>\n",
       "  </thead>\n",
       "  <tbody>\n",
       "    <tr>\n",
       "      <th>11</th>\n",
       "      <td>small_business</td>\n",
       "      <td>454</td>\n",
       "      <td>1169</td>\n",
       "      <td>1623</td>\n",
       "      <td>28.0</td>\n",
       "    </tr>\n",
       "    <tr>\n",
       "      <th>10</th>\n",
       "      <td>renewable_energy</td>\n",
       "      <td>18</td>\n",
       "      <td>77</td>\n",
       "      <td>95</td>\n",
       "      <td>19.0</td>\n",
       "    </tr>\n",
       "    <tr>\n",
       "      <th>3</th>\n",
       "      <td>educational</td>\n",
       "      <td>54</td>\n",
       "      <td>258</td>\n",
       "      <td>312</td>\n",
       "      <td>17.0</td>\n",
       "    </tr>\n",
       "    <tr>\n",
       "      <th>5</th>\n",
       "      <td>house</td>\n",
       "      <td>55</td>\n",
       "      <td>283</td>\n",
       "      <td>338</td>\n",
       "      <td>16.0</td>\n",
       "    </tr>\n",
       "    <tr>\n",
       "      <th>7</th>\n",
       "      <td>medical</td>\n",
       "      <td>104</td>\n",
       "      <td>536</td>\n",
       "      <td>640</td>\n",
       "      <td>16.0</td>\n",
       "    </tr>\n",
       "    <tr>\n",
       "      <th>8</th>\n",
       "      <td>moving</td>\n",
       "      <td>90</td>\n",
       "      <td>460</td>\n",
       "      <td>550</td>\n",
       "      <td>16.0</td>\n",
       "    </tr>\n",
       "    <tr>\n",
       "      <th>9</th>\n",
       "      <td>other</td>\n",
       "      <td>605</td>\n",
       "      <td>3091</td>\n",
       "      <td>3696</td>\n",
       "      <td>16.0</td>\n",
       "    </tr>\n",
       "    <tr>\n",
       "      <th>2</th>\n",
       "      <td>debt_consolidation</td>\n",
       "      <td>2675</td>\n",
       "      <td>14626</td>\n",
       "      <td>17301</td>\n",
       "      <td>15.0</td>\n",
       "    </tr>\n",
       "    <tr>\n",
       "      <th>12</th>\n",
       "      <td>vacation</td>\n",
       "      <td>52</td>\n",
       "      <td>313</td>\n",
       "      <td>365</td>\n",
       "      <td>14.0</td>\n",
       "    </tr>\n",
       "    <tr>\n",
       "      <th>4</th>\n",
       "      <td>home_improvement</td>\n",
       "      <td>322</td>\n",
       "      <td>2233</td>\n",
       "      <td>2555</td>\n",
       "      <td>13.0</td>\n",
       "    </tr>\n",
       "    <tr>\n",
       "      <th>0</th>\n",
       "      <td>car</td>\n",
       "      <td>159</td>\n",
       "      <td>1289</td>\n",
       "      <td>1448</td>\n",
       "      <td>11.0</td>\n",
       "    </tr>\n",
       "    <tr>\n",
       "      <th>1</th>\n",
       "      <td>credit_card</td>\n",
       "      <td>519</td>\n",
       "      <td>4263</td>\n",
       "      <td>4782</td>\n",
       "      <td>11.0</td>\n",
       "    </tr>\n",
       "    <tr>\n",
       "      <th>6</th>\n",
       "      <td>major_purchase</td>\n",
       "      <td>217</td>\n",
       "      <td>1828</td>\n",
       "      <td>2045</td>\n",
       "      <td>11.0</td>\n",
       "    </tr>\n",
       "    <tr>\n",
       "      <th>13</th>\n",
       "      <td>wedding</td>\n",
       "      <td>92</td>\n",
       "      <td>800</td>\n",
       "      <td>892</td>\n",
       "      <td>10.0</td>\n",
       "    </tr>\n",
       "  </tbody>\n",
       "</table>\n",
       "</div>"
      ],
      "text/plain": [
       "loan_status             purpose  Charged Off  Fully Paid  Total  \\\n",
       "11               small_business          454        1169   1623   \n",
       "10             renewable_energy           18          77     95   \n",
       "3                   educational           54         258    312   \n",
       "5                         house           55         283    338   \n",
       "7                       medical          104         536    640   \n",
       "8                        moving           90         460    550   \n",
       "9                         other          605        3091   3696   \n",
       "2            debt_consolidation         2675       14626  17301   \n",
       "12                     vacation           52         313    365   \n",
       "4              home_improvement          322        2233   2555   \n",
       "0                           car          159        1289   1448   \n",
       "1                   credit_card          519        4263   4782   \n",
       "6                major_purchase          217        1828   2045   \n",
       "13                      wedding           92         800    892   \n",
       "\n",
       "loan_status  Chargedoff_Percent  \n",
       "11                         28.0  \n",
       "10                         19.0  \n",
       "3                          17.0  \n",
       "5                          16.0  \n",
       "7                          16.0  \n",
       "8                          16.0  \n",
       "9                          16.0  \n",
       "2                          15.0  \n",
       "12                         14.0  \n",
       "4                          13.0  \n",
       "0                          11.0  \n",
       "1                          11.0  \n",
       "6                          11.0  \n",
       "13                         10.0  "
      ]
     },
     "execution_count": 170,
     "metadata": {},
     "output_type": "execute_result"
    }
   ],
   "source": [
    "purpose_v_chargeoff = df_loan_data_bi.groupby(['purpose', 'loan_status']).loan_status.count().unstack().fillna(0).reset_index()\n",
    "purpose_v_chargeoff['Total'] = purpose_v_chargeoff['Charged Off'] + purpose_v_chargeoff['Fully Paid'] \n",
    "purpose_v_chargeoff['Chargedoff_Percent'] = round((purpose_v_chargeoff['Charged Off'] / purpose_v_chargeoff['Total'])*100)\n",
    "purpose_v_chargeoff.sort_values('Chargedoff_Percent', ascending=False)"
   ]
  },
  {
   "cell_type": "code",
   "execution_count": 172,
   "id": "ee327c81-ed21-4695-854b-cf16fcc1144e",
   "metadata": {},
   "outputs": [
    {
     "data": {
      "image/png": "[encoded data removed]",
      "text/plain": [
       "<Figure size 1200x800 with 1 Axes>"
      ]
     },
     "metadata": {},
     "output_type": "display_data"
    }
   ],
   "source": [
    "with plt.style.context('ggplot'):\n",
    "  fig, ax1 = plt.subplots(figsize=(12, 8),facecolor='w')\n",
    "  ax1.set_title('Charge Off % vs Purpose',fontsize=15,color='b')\n",
    "  ax1=sns.barplot(x='Chargedoff_Percent',y='purpose', data=purpose_v_chargeoff,palette='Spectral')\n",
    "  ax1.set_xlabel('Chargedoff %',fontsize=14,color = 'b')\n",
    "  ax1.set_ylabel('Purpose',fontsize=14,color='b')\n",
    "  plt.show()"
   ]
  },
  {
   "cell_type": "markdown",
   "id": "94c6b284-086a-4554-a62f-e954574a0a9a",
   "metadata": {},
   "source": [
    "##### <span style='color:RED'>Observation 2.3.4.2<BR> <BR> <LI> There is higher possiblity of charge-off by applicants seeking loan for Small Business <BR><BR> <LI>  Renewable Energey and Educational loans are the next in terms of charge-off"
   ]
  },
  {
   "cell_type": "markdown",
   "id": "7a2eb8cb-f1bc-4cd7-ba95-5a801c6962e2",
   "metadata": {},
   "source": [
    "####  <span style='color:BLUE'> Grade against Charged Off Proportion </span>"
   ]
  },
  {
   "cell_type": "code",
   "execution_count": null,
   "id": "e64b1477-4a53-4c3f-a249-4ba1bffb6a19",
   "metadata": {},
   "outputs": [],
   "source": [
    "grade_v_chargeoff = df_loan_data_bi.groupby(['grade', 'loan_status']).loan_status.count().unstack().fillna(0).reset_index()\n",
    "grade_v_chargeoff['Total'] = grade_v_chargeoff['Charged Off'] + grade_v_chargeoff['Fully Paid'] \n",
    "grade_v_chargeoff['Chargedoff_Percent'] = round((grade_v_chargeoff['Charged Off'] / grade_v_chargeoff['Total'])*100)\n",
    "grade_v_chargeoff.sort_values('grade', ascending=True)"
   ]
  },
  {
   "cell_type": "code",
   "execution_count": null,
   "id": "5adef0c9-d757-4000-b407-3a2e0df7f32e",
   "metadata": {},
   "outputs": [],
   "source": [
    "with plt.style.context('ggplot'):\n",
    "  fig, ax1 = plt.subplots(figsize=(12, 5),facecolor='w')\n",
    "  ax1.set_title('Charge Off % vs Grade',fontsize=15,color='b')\n",
    "  ax1=sns.barplot(x='Chargedoff_Percent', y='grade', data=grade_v_chargeoff,palette='Spectral')\n",
    "  ax1.set_xlabel('Chargedoff %',fontsize=14,color = 'b')\n",
    "  ax1.set_ylabel('Grade',fontsize=14,color='b')\n",
    "  plt.show()"
   ]
  },
  {
   "cell_type": "markdown",
   "id": "57b4eb5f-0f27-48de-8c94-b420be43783f",
   "metadata": {},
   "source": [
    "##### <span style='color:RED'>Observation 2.3.4.3<BR> <BR> <LI> There is higher possiblity of charge-off by applicants with lower grade (\"Grade G\")<BR><BR>"
   ]
  },
  {
   "cell_type": "markdown",
   "id": "b4a54a38-b693-46fb-8b1f-f599bb4938c9",
   "metadata": {},
   "source": [
    "####  <span style='color:BLUE'> Employment length vs Charged Off Percentage </span>"
   ]
  },
  {
   "cell_type": "code",
   "execution_count": 178,
   "id": "da360c78-caf0-4351-a45c-801ce48b5464",
   "metadata": {},
   "outputs": [
    {
     "data": {
      "text/html": [
       "<div>\n",
       "<style scoped>\n",
       "    .dataframe tbody tr th:only-of-type {\n",
       "        vertical-align: middle;\n",
       "    }\n",
       "\n",
       "    .dataframe tbody tr th {\n",
       "        vertical-align: top;\n",
       "    }\n",
       "\n",
       "    .dataframe thead th {\n",
       "        text-align: right;\n",
       "    }\n",
       "</style>\n",
       "<table border=\"1\" class=\"dataframe\">\n",
       "  <thead>\n",
       "    <tr style=\"text-align: right;\">\n",
       "      <th>loan_status</th>\n",
       "      <th>emp_length</th>\n",
       "      <th>Charged Off</th>\n",
       "      <th>Fully Paid</th>\n",
       "      <th>Total</th>\n",
       "      <th>Chargedoff_Percent</th>\n",
       "    </tr>\n",
       "  </thead>\n",
       "  <tbody>\n",
       "    <tr>\n",
       "      <th>0</th>\n",
       "      <td>0</td>\n",
       "      <td>617</td>\n",
       "      <td>3710</td>\n",
       "      <td>4327</td>\n",
       "      <td>14.0</td>\n",
       "    </tr>\n",
       "    <tr>\n",
       "      <th>1</th>\n",
       "      <td>1</td>\n",
       "      <td>449</td>\n",
       "      <td>2594</td>\n",
       "      <td>3043</td>\n",
       "      <td>15.0</td>\n",
       "    </tr>\n",
       "    <tr>\n",
       "      <th>3</th>\n",
       "      <td>2</td>\n",
       "      <td>547</td>\n",
       "      <td>3554</td>\n",
       "      <td>4101</td>\n",
       "      <td>13.0</td>\n",
       "    </tr>\n",
       "    <tr>\n",
       "      <th>4</th>\n",
       "      <td>3</td>\n",
       "      <td>536</td>\n",
       "      <td>3287</td>\n",
       "      <td>3823</td>\n",
       "      <td>14.0</td>\n",
       "    </tr>\n",
       "    <tr>\n",
       "      <th>5</th>\n",
       "      <td>4</td>\n",
       "      <td>443</td>\n",
       "      <td>2754</td>\n",
       "      <td>3197</td>\n",
       "      <td>14.0</td>\n",
       "    </tr>\n",
       "    <tr>\n",
       "      <th>6</th>\n",
       "      <td>5</td>\n",
       "      <td>441</td>\n",
       "      <td>2603</td>\n",
       "      <td>3044</td>\n",
       "      <td>14.0</td>\n",
       "    </tr>\n",
       "    <tr>\n",
       "      <th>7</th>\n",
       "      <td>6</td>\n",
       "      <td>294</td>\n",
       "      <td>1779</td>\n",
       "      <td>2073</td>\n",
       "      <td>14.0</td>\n",
       "    </tr>\n",
       "    <tr>\n",
       "      <th>8</th>\n",
       "      <td>7</td>\n",
       "      <td>252</td>\n",
       "      <td>1391</td>\n",
       "      <td>1643</td>\n",
       "      <td>15.0</td>\n",
       "    </tr>\n",
       "    <tr>\n",
       "      <th>9</th>\n",
       "      <td>8</td>\n",
       "      <td>194</td>\n",
       "      <td>1147</td>\n",
       "      <td>1341</td>\n",
       "      <td>14.0</td>\n",
       "    </tr>\n",
       "    <tr>\n",
       "      <th>10</th>\n",
       "      <td>9</td>\n",
       "      <td>149</td>\n",
       "      <td>1003</td>\n",
       "      <td>1152</td>\n",
       "      <td>13.0</td>\n",
       "    </tr>\n",
       "    <tr>\n",
       "      <th>2</th>\n",
       "      <td>10</td>\n",
       "      <td>1269</td>\n",
       "      <td>6615</td>\n",
       "      <td>7884</td>\n",
       "      <td>16.0</td>\n",
       "    </tr>\n",
       "  </tbody>\n",
       "</table>\n",
       "</div>"
      ],
      "text/plain": [
       "loan_status  emp_length  Charged Off  Fully Paid  Total  Chargedoff_Percent\n",
       "0                     0          617        3710   4327                14.0\n",
       "1                     1          449        2594   3043                15.0\n",
       "3                     2          547        3554   4101                13.0\n",
       "4                     3          536        3287   3823                14.0\n",
       "5                     4          443        2754   3197                14.0\n",
       "6                     5          441        2603   3044                14.0\n",
       "7                     6          294        1779   2073                14.0\n",
       "8                     7          252        1391   1643                15.0\n",
       "9                     8          194        1147   1341                14.0\n",
       "10                    9          149        1003   1152                13.0\n",
       "2                    10         1269        6615   7884                16.0"
      ]
     },
     "execution_count": 178,
     "metadata": {},
     "output_type": "execute_result"
    }
   ],
   "source": [
    "emplength_v_chargeoff = df_loan_data_bi.groupby(['emp_length', 'loan_status']).loan_status.count().unstack().fillna(0).reset_index()\n",
    "emplength_v_chargeoff['emp_length']= emplength_v_chargeoff['emp_length'].astype('int64')\n",
    "emplength_v_chargeoff['Total'] = emplength_v_chargeoff['Charged Off'] + emplength_v_chargeoff['Fully Paid'] \n",
    "emplength_v_chargeoff['Chargedoff_Percent'] = round((emplength_v_chargeoff['Charged Off'] / emplength_v_chargeoff['Total'])*100)\n",
    "emplength_v_chargeoff.sort_values('emp_length', ascending=True)"
   ]
  },
  {
   "cell_type": "code",
   "execution_count": 180,
   "id": "d8e92550-2646-4b67-972d-554d680cc94c",
   "metadata": {},
   "outputs": [
    {
     "data": {
      "image/png": "[encoded data removed]",
      "text/plain": [
       "<Figure size 1000x700 with 1 Axes>"
      ]
     },
     "metadata": {},
     "output_type": "display_data"
    }
   ],
   "source": [
    "with plt.style.context('ggplot'):\n",
    "  fig, ax1 = plt.subplots(figsize=(10, 7),facecolor='w')\n",
    "  ax1.set_title('Employment length vs Charged Off Percentage',fontsize=15,color='b')\n",
    "  ax1=sns.barplot(x='emp_length', y='Chargedoff_Percent', data=emplength_v_chargeoff,palette='Spectral')\n",
    "  ax1.set_xlabel('Employement length',fontsize=14,color='b')\n",
    "  ax1.set_ylabel('Chargedoff_Percent',fontsize=14,color = 'b')\n",
    "  plt.show()"
   ]
  },
  {
   "cell_type": "markdown",
   "id": "a760e623-bebc-4afb-a84a-228c81f2f9a7",
   "metadata": {},
   "source": [
    "##### <span style='color:RED'>Observation 2.3.4.4<BR> <BR> <LI> While it was observed in univariate analysis that the applications with >10 year of employment duration had higher charge-off risk, within each duration of employment the charge of percentage is almost similar."
   ]
  },
  {
   "cell_type": "markdown",
   "id": "63cb2e2b-b5e1-4496-9736-60d117ea14d0",
   "metadata": {},
   "source": [
    "####  <span style='color:BLUE'> Verification status against Charged Off Percentage </span>"
   ]
  },
  {
   "cell_type": "code",
   "execution_count": 174,
   "id": "a26707fb-2830-41be-abac-fc1793a79ceb",
   "metadata": {},
   "outputs": [
    {
     "data": {
      "text/html": [
       "<div>\n",
       "<style scoped>\n",
       "    .dataframe tbody tr th:only-of-type {\n",
       "        vertical-align: middle;\n",
       "    }\n",
       "\n",
       "    .dataframe tbody tr th {\n",
       "        vertical-align: top;\n",
       "    }\n",
       "\n",
       "    .dataframe thead th {\n",
       "        text-align: right;\n",
       "    }\n",
       "</style>\n",
       "<table border=\"1\" class=\"dataframe\">\n",
       "  <thead>\n",
       "    <tr style=\"text-align: right;\">\n",
       "      <th>loan_status</th>\n",
       "      <th>verification_status</th>\n",
       "      <th>Charged Off</th>\n",
       "      <th>Fully Paid</th>\n",
       "      <th>Total</th>\n",
       "      <th>Chargedoff_Percent</th>\n",
       "    </tr>\n",
       "  </thead>\n",
       "  <tbody>\n",
       "    <tr>\n",
       "      <th>0</th>\n",
       "      <td>Not Verified</td>\n",
       "      <td>2095</td>\n",
       "      <td>14183</td>\n",
       "      <td>16278</td>\n",
       "      <td>13.0</td>\n",
       "    </tr>\n",
       "    <tr>\n",
       "      <th>1</th>\n",
       "      <td>Source Verified</td>\n",
       "      <td>1373</td>\n",
       "      <td>7777</td>\n",
       "      <td>9150</td>\n",
       "      <td>15.0</td>\n",
       "    </tr>\n",
       "    <tr>\n",
       "      <th>2</th>\n",
       "      <td>Verified</td>\n",
       "      <td>1948</td>\n",
       "      <td>9266</td>\n",
       "      <td>11214</td>\n",
       "      <td>17.0</td>\n",
       "    </tr>\n",
       "  </tbody>\n",
       "</table>\n",
       "</div>"
      ],
      "text/plain": [
       "loan_status verification_status  Charged Off  Fully Paid  Total  \\\n",
       "0                  Not Verified         2095       14183  16278   \n",
       "1               Source Verified         1373        7777   9150   \n",
       "2                      Verified         1948        9266  11214   \n",
       "\n",
       "loan_status  Chargedoff_Percent  \n",
       "0                          13.0  \n",
       "1                          15.0  \n",
       "2                          17.0  "
      ]
     },
     "execution_count": 174,
     "metadata": {},
     "output_type": "execute_result"
    }
   ],
   "source": [
    "verstatus_v_chargeoff = df_loan_data_bi.groupby(['verification_status', 'loan_status']).loan_status.count().unstack().fillna(0).reset_index()\n",
    "verstatus_v_chargeoff['Total'] = verstatus_v_chargeoff['Charged Off'] + verstatus_v_chargeoff['Fully Paid'] \n",
    "verstatus_v_chargeoff['Chargedoff_Percent'] = round((verstatus_v_chargeoff['Charged Off'] / verstatus_v_chargeoff['Total'])*100)\n",
    "verstatus_v_chargeoff.sort_values('verification_status', ascending=True)"
   ]
  },
  {
   "cell_type": "markdown",
   "id": "4c1eafbf-c89e-4c00-8c6d-699ec4370d18",
   "metadata": {},
   "source": [
    "##### <span style='color:RED'>Observation 2.3.4.5<BR> <BR> <LI> There is a higher possiblity of charge-off when the loan applications are fully verified. Though not very conclusive the bank needs to strengthen the underwriting process of loan applications"
   ]
  },
  {
   "cell_type": "markdown",
   "id": "bd461770-a8f9-448b-8914-63900e7f2b39",
   "metadata": {},
   "source": [
    "#####  <span style='color:BLUE'> State wise ChargedOff Percentage</span>"
   ]
  },
  {
   "cell_type": "code",
   "execution_count": 182,
   "id": "8187da3a-2562-42bb-8f2e-20d4011e17b6",
   "metadata": {},
   "outputs": [
    {
     "data": {
      "text/html": [
       "<div>\n",
       "<style scoped>\n",
       "    .dataframe tbody tr th:only-of-type {\n",
       "        vertical-align: middle;\n",
       "    }\n",
       "\n",
       "    .dataframe tbody tr th {\n",
       "        vertical-align: top;\n",
       "    }\n",
       "\n",
       "    .dataframe thead th {\n",
       "        text-align: right;\n",
       "    }\n",
       "</style>\n",
       "<table border=\"1\" class=\"dataframe\">\n",
       "  <thead>\n",
       "    <tr style=\"text-align: right;\">\n",
       "      <th>loan_status</th>\n",
       "      <th>addr_state</th>\n",
       "      <th>Charged Off</th>\n",
       "      <th>Fully Paid</th>\n",
       "      <th>Total</th>\n",
       "      <th>Chargedoff_Percent</th>\n",
       "    </tr>\n",
       "  </thead>\n",
       "  <tbody>\n",
       "    <tr>\n",
       "      <th>28</th>\n",
       "      <td>NE</td>\n",
       "      <td>3.0</td>\n",
       "      <td>2.0</td>\n",
       "      <td>5.0</td>\n",
       "      <td>60.0</td>\n",
       "    </tr>\n",
       "    <tr>\n",
       "      <th>32</th>\n",
       "      <td>NV</td>\n",
       "      <td>103.0</td>\n",
       "      <td>354.0</td>\n",
       "      <td>457.0</td>\n",
       "      <td>23.0</td>\n",
       "    </tr>\n",
       "    <tr>\n",
       "      <th>13</th>\n",
       "      <td>ID</td>\n",
       "      <td>1.0</td>\n",
       "      <td>4.0</td>\n",
       "      <td>5.0</td>\n",
       "      <td>20.0</td>\n",
       "    </tr>\n",
       "    <tr>\n",
       "      <th>40</th>\n",
       "      <td>SD</td>\n",
       "      <td>12.0</td>\n",
       "      <td>50.0</td>\n",
       "      <td>62.0</td>\n",
       "      <td>19.0</td>\n",
       "    </tr>\n",
       "    <tr>\n",
       "      <th>0</th>\n",
       "      <td>AK</td>\n",
       "      <td>13.0</td>\n",
       "      <td>58.0</td>\n",
       "      <td>71.0</td>\n",
       "      <td>18.0</td>\n",
       "    </tr>\n",
       "    <tr>\n",
       "      <th>9</th>\n",
       "      <td>FL</td>\n",
       "      <td>485.0</td>\n",
       "      <td>2167.0</td>\n",
       "      <td>2652.0</td>\n",
       "      <td>18.0</td>\n",
       "    </tr>\n",
       "    <tr>\n",
       "      <th>11</th>\n",
       "      <td>HI</td>\n",
       "      <td>28.0</td>\n",
       "      <td>132.0</td>\n",
       "      <td>160.0</td>\n",
       "      <td>18.0</td>\n",
       "    </tr>\n",
       "    <tr>\n",
       "      <th>31</th>\n",
       "      <td>NM</td>\n",
       "      <td>30.0</td>\n",
       "      <td>147.0</td>\n",
       "      <td>177.0</td>\n",
       "      <td>17.0</td>\n",
       "    </tr>\n",
       "    <tr>\n",
       "      <th>24</th>\n",
       "      <td>MO</td>\n",
       "      <td>111.0</td>\n",
       "      <td>536.0</td>\n",
       "      <td>647.0</td>\n",
       "      <td>17.0</td>\n",
       "    </tr>\n",
       "    <tr>\n",
       "      <th>20</th>\n",
       "      <td>MD</td>\n",
       "      <td>156.0</td>\n",
       "      <td>810.0</td>\n",
       "      <td>966.0</td>\n",
       "      <td>16.0</td>\n",
       "    </tr>\n",
       "    <tr>\n",
       "      <th>36</th>\n",
       "      <td>OR</td>\n",
       "      <td>70.0</td>\n",
       "      <td>358.0</td>\n",
       "      <td>428.0</td>\n",
       "      <td>16.0</td>\n",
       "    </tr>\n",
       "    <tr>\n",
       "      <th>30</th>\n",
       "      <td>NJ</td>\n",
       "      <td>269.0</td>\n",
       "      <td>1402.0</td>\n",
       "      <td>1671.0</td>\n",
       "      <td>16.0</td>\n",
       "    </tr>\n",
       "    <tr>\n",
       "      <th>29</th>\n",
       "      <td>NH</td>\n",
       "      <td>25.0</td>\n",
       "      <td>132.0</td>\n",
       "      <td>157.0</td>\n",
       "      <td>16.0</td>\n",
       "    </tr>\n",
       "    <tr>\n",
       "      <th>27</th>\n",
       "      <td>NC</td>\n",
       "      <td>113.0</td>\n",
       "      <td>606.0</td>\n",
       "      <td>719.0</td>\n",
       "      <td>16.0</td>\n",
       "    </tr>\n",
       "    <tr>\n",
       "      <th>43</th>\n",
       "      <td>UT</td>\n",
       "      <td>38.0</td>\n",
       "      <td>204.0</td>\n",
       "      <td>242.0</td>\n",
       "      <td>16.0</td>\n",
       "    </tr>\n",
       "    <tr>\n",
       "      <th>46</th>\n",
       "      <td>WA</td>\n",
       "      <td>124.0</td>\n",
       "      <td>660.0</td>\n",
       "      <td>784.0</td>\n",
       "      <td>16.0</td>\n",
       "    </tr>\n",
       "    <tr>\n",
       "      <th>10</th>\n",
       "      <td>GA</td>\n",
       "      <td>208.0</td>\n",
       "      <td>1078.0</td>\n",
       "      <td>1286.0</td>\n",
       "      <td>16.0</td>\n",
       "    </tr>\n",
       "    <tr>\n",
       "      <th>4</th>\n",
       "      <td>CA</td>\n",
       "      <td>1073.0</td>\n",
       "      <td>5487.0</td>\n",
       "      <td>6560.0</td>\n",
       "      <td>16.0</td>\n",
       "    </tr>\n",
       "    <tr>\n",
       "      <th>17</th>\n",
       "      <td>KY</td>\n",
       "      <td>45.0</td>\n",
       "      <td>259.0</td>\n",
       "      <td>304.0</td>\n",
       "      <td>15.0</td>\n",
       "    </tr>\n",
       "    <tr>\n",
       "      <th>39</th>\n",
       "      <td>SC</td>\n",
       "      <td>64.0</td>\n",
       "      <td>377.0</td>\n",
       "      <td>441.0</td>\n",
       "      <td>15.0</td>\n",
       "    </tr>\n",
       "    <tr>\n",
       "      <th>22</th>\n",
       "      <td>MI</td>\n",
       "      <td>100.0</td>\n",
       "      <td>582.0</td>\n",
       "      <td>682.0</td>\n",
       "      <td>15.0</td>\n",
       "    </tr>\n",
       "    <tr>\n",
       "      <th>14</th>\n",
       "      <td>IL</td>\n",
       "      <td>192.0</td>\n",
       "      <td>1213.0</td>\n",
       "      <td>1405.0</td>\n",
       "      <td>14.0</td>\n",
       "    </tr>\n",
       "    <tr>\n",
       "      <th>3</th>\n",
       "      <td>AZ</td>\n",
       "      <td>117.0</td>\n",
       "      <td>693.0</td>\n",
       "      <td>810.0</td>\n",
       "      <td>14.0</td>\n",
       "    </tr>\n",
       "    <tr>\n",
       "      <th>23</th>\n",
       "      <td>MN</td>\n",
       "      <td>81.0</td>\n",
       "      <td>506.0</td>\n",
       "      <td>587.0</td>\n",
       "      <td>14.0</td>\n",
       "    </tr>\n",
       "    <tr>\n",
       "      <th>35</th>\n",
       "      <td>OK</td>\n",
       "      <td>40.0</td>\n",
       "      <td>241.0</td>\n",
       "      <td>281.0</td>\n",
       "      <td>14.0</td>\n",
       "    </tr>\n",
       "    <tr>\n",
       "      <th>33</th>\n",
       "      <td>NY</td>\n",
       "      <td>468.0</td>\n",
       "      <td>2995.0</td>\n",
       "      <td>3463.0</td>\n",
       "      <td>14.0</td>\n",
       "    </tr>\n",
       "    <tr>\n",
       "      <th>47</th>\n",
       "      <td>WI</td>\n",
       "      <td>60.0</td>\n",
       "      <td>361.0</td>\n",
       "      <td>421.0</td>\n",
       "      <td>14.0</td>\n",
       "    </tr>\n",
       "    <tr>\n",
       "      <th>5</th>\n",
       "      <td>CO</td>\n",
       "      <td>96.0</td>\n",
       "      <td>645.0</td>\n",
       "      <td>741.0</td>\n",
       "      <td>13.0</td>\n",
       "    </tr>\n",
       "    <tr>\n",
       "      <th>38</th>\n",
       "      <td>RI</td>\n",
       "      <td>24.0</td>\n",
       "      <td>162.0</td>\n",
       "      <td>186.0</td>\n",
       "      <td>13.0</td>\n",
       "    </tr>\n",
       "    <tr>\n",
       "      <th>34</th>\n",
       "      <td>OH</td>\n",
       "      <td>151.0</td>\n",
       "      <td>996.0</td>\n",
       "      <td>1147.0</td>\n",
       "      <td>13.0</td>\n",
       "    </tr>\n",
       "    <tr>\n",
       "      <th>44</th>\n",
       "      <td>VA</td>\n",
       "      <td>174.0</td>\n",
       "      <td>1134.0</td>\n",
       "      <td>1308.0</td>\n",
       "      <td>13.0</td>\n",
       "    </tr>\n",
       "    <tr>\n",
       "      <th>6</th>\n",
       "      <td>CT</td>\n",
       "      <td>90.0</td>\n",
       "      <td>581.0</td>\n",
       "      <td>671.0</td>\n",
       "      <td>13.0</td>\n",
       "    </tr>\n",
       "    <tr>\n",
       "      <th>26</th>\n",
       "      <td>MT</td>\n",
       "      <td>11.0</td>\n",
       "      <td>72.0</td>\n",
       "      <td>83.0</td>\n",
       "      <td>13.0</td>\n",
       "    </tr>\n",
       "    <tr>\n",
       "      <th>18</th>\n",
       "      <td>LA</td>\n",
       "      <td>51.0</td>\n",
       "      <td>350.0</td>\n",
       "      <td>401.0</td>\n",
       "      <td>13.0</td>\n",
       "    </tr>\n",
       "    <tr>\n",
       "      <th>16</th>\n",
       "      <td>KS</td>\n",
       "      <td>30.0</td>\n",
       "      <td>215.0</td>\n",
       "      <td>245.0</td>\n",
       "      <td>12.0</td>\n",
       "    </tr>\n",
       "    <tr>\n",
       "      <th>1</th>\n",
       "      <td>AL</td>\n",
       "      <td>52.0</td>\n",
       "      <td>371.0</td>\n",
       "      <td>423.0</td>\n",
       "      <td>12.0</td>\n",
       "    </tr>\n",
       "    <tr>\n",
       "      <th>42</th>\n",
       "      <td>TX</td>\n",
       "      <td>295.0</td>\n",
       "      <td>2181.0</td>\n",
       "      <td>2476.0</td>\n",
       "      <td>12.0</td>\n",
       "    </tr>\n",
       "    <tr>\n",
       "      <th>37</th>\n",
       "      <td>PA</td>\n",
       "      <td>177.0</td>\n",
       "      <td>1245.0</td>\n",
       "      <td>1422.0</td>\n",
       "      <td>12.0</td>\n",
       "    </tr>\n",
       "    <tr>\n",
       "      <th>19</th>\n",
       "      <td>MA</td>\n",
       "      <td>150.0</td>\n",
       "      <td>1059.0</td>\n",
       "      <td>1209.0</td>\n",
       "      <td>12.0</td>\n",
       "    </tr>\n",
       "    <tr>\n",
       "      <th>48</th>\n",
       "      <td>WV</td>\n",
       "      <td>21.0</td>\n",
       "      <td>148.0</td>\n",
       "      <td>169.0</td>\n",
       "      <td>12.0</td>\n",
       "    </tr>\n",
       "    <tr>\n",
       "      <th>41</th>\n",
       "      <td>TN</td>\n",
       "      <td>2.0</td>\n",
       "      <td>15.0</td>\n",
       "      <td>17.0</td>\n",
       "      <td>12.0</td>\n",
       "    </tr>\n",
       "    <tr>\n",
       "      <th>45</th>\n",
       "      <td>VT</td>\n",
       "      <td>6.0</td>\n",
       "      <td>47.0</td>\n",
       "      <td>53.0</td>\n",
       "      <td>11.0</td>\n",
       "    </tr>\n",
       "    <tr>\n",
       "      <th>25</th>\n",
       "      <td>MS</td>\n",
       "      <td>2.0</td>\n",
       "      <td>17.0</td>\n",
       "      <td>19.0</td>\n",
       "      <td>11.0</td>\n",
       "    </tr>\n",
       "    <tr>\n",
       "      <th>8</th>\n",
       "      <td>DE</td>\n",
       "      <td>12.0</td>\n",
       "      <td>97.0</td>\n",
       "      <td>109.0</td>\n",
       "      <td>11.0</td>\n",
       "    </tr>\n",
       "    <tr>\n",
       "      <th>2</th>\n",
       "      <td>AR</td>\n",
       "      <td>26.0</td>\n",
       "      <td>203.0</td>\n",
       "      <td>229.0</td>\n",
       "      <td>11.0</td>\n",
       "    </tr>\n",
       "    <tr>\n",
       "      <th>7</th>\n",
       "      <td>DC</td>\n",
       "      <td>13.0</td>\n",
       "      <td>182.0</td>\n",
       "      <td>195.0</td>\n",
       "      <td>7.0</td>\n",
       "    </tr>\n",
       "    <tr>\n",
       "      <th>49</th>\n",
       "      <td>WY</td>\n",
       "      <td>4.0</td>\n",
       "      <td>75.0</td>\n",
       "      <td>79.0</td>\n",
       "      <td>5.0</td>\n",
       "    </tr>\n",
       "    <tr>\n",
       "      <th>21</th>\n",
       "      <td>ME</td>\n",
       "      <td>0.0</td>\n",
       "      <td>3.0</td>\n",
       "      <td>3.0</td>\n",
       "      <td>0.0</td>\n",
       "    </tr>\n",
       "    <tr>\n",
       "      <th>15</th>\n",
       "      <td>IN</td>\n",
       "      <td>0.0</td>\n",
       "      <td>9.0</td>\n",
       "      <td>9.0</td>\n",
       "      <td>0.0</td>\n",
       "    </tr>\n",
       "    <tr>\n",
       "      <th>12</th>\n",
       "      <td>IA</td>\n",
       "      <td>0.0</td>\n",
       "      <td>5.0</td>\n",
       "      <td>5.0</td>\n",
       "      <td>0.0</td>\n",
       "    </tr>\n",
       "  </tbody>\n",
       "</table>\n",
       "</div>"
      ],
      "text/plain": [
       "loan_status addr_state  Charged Off  Fully Paid   Total  Chargedoff_Percent\n",
       "28                  NE          3.0         2.0     5.0                60.0\n",
       "32                  NV        103.0       354.0   457.0                23.0\n",
       "13                  ID          1.0         4.0     5.0                20.0\n",
       "40                  SD         12.0        50.0    62.0                19.0\n",
       "0                   AK         13.0        58.0    71.0                18.0\n",
       "9                   FL        485.0      2167.0  2652.0                18.0\n",
       "11                  HI         28.0       132.0   160.0                18.0\n",
       "31                  NM         30.0       147.0   177.0                17.0\n",
       "24                  MO        111.0       536.0   647.0                17.0\n",
       "20                  MD        156.0       810.0   966.0                16.0\n",
       "36                  OR         70.0       358.0   428.0                16.0\n",
       "30                  NJ        269.0      1402.0  1671.0                16.0\n",
       "29                  NH         25.0       132.0   157.0                16.0\n",
       "27                  NC        113.0       606.0   719.0                16.0\n",
       "43                  UT         38.0       204.0   242.0                16.0\n",
       "46                  WA        124.0       660.0   784.0                16.0\n",
       "10                  GA        208.0      1078.0  1286.0                16.0\n",
       "4                   CA       1073.0      5487.0  6560.0                16.0\n",
       "17                  KY         45.0       259.0   304.0                15.0\n",
       "39                  SC         64.0       377.0   441.0                15.0\n",
       "22                  MI        100.0       582.0   682.0                15.0\n",
       "14                  IL        192.0      1213.0  1405.0                14.0\n",
       "3                   AZ        117.0       693.0   810.0                14.0\n",
       "23                  MN         81.0       506.0   587.0                14.0\n",
       "35                  OK         40.0       241.0   281.0                14.0\n",
       "33                  NY        468.0      2995.0  3463.0                14.0\n",
       "47                  WI         60.0       361.0   421.0                14.0\n",
       "5                   CO         96.0       645.0   741.0                13.0\n",
       "38                  RI         24.0       162.0   186.0                13.0\n",
       "34                  OH        151.0       996.0  1147.0                13.0\n",
       "44                  VA        174.0      1134.0  1308.0                13.0\n",
       "6                   CT         90.0       581.0   671.0                13.0\n",
       "26                  MT         11.0        72.0    83.0                13.0\n",
       "18                  LA         51.0       350.0   401.0                13.0\n",
       "16                  KS         30.0       215.0   245.0                12.0\n",
       "1                   AL         52.0       371.0   423.0                12.0\n",
       "42                  TX        295.0      2181.0  2476.0                12.0\n",
       "37                  PA        177.0      1245.0  1422.0                12.0\n",
       "19                  MA        150.0      1059.0  1209.0                12.0\n",
       "48                  WV         21.0       148.0   169.0                12.0\n",
       "41                  TN          2.0        15.0    17.0                12.0\n",
       "45                  VT          6.0        47.0    53.0                11.0\n",
       "25                  MS          2.0        17.0    19.0                11.0\n",
       "8                   DE         12.0        97.0   109.0                11.0\n",
       "2                   AR         26.0       203.0   229.0                11.0\n",
       "7                   DC         13.0       182.0   195.0                 7.0\n",
       "49                  WY          4.0        75.0    79.0                 5.0\n",
       "21                  ME          0.0         3.0     3.0                 0.0\n",
       "15                  IN          0.0         9.0     9.0                 0.0\n",
       "12                  IA          0.0         5.0     5.0                 0.0"
      ]
     },
     "execution_count": 182,
     "metadata": {},
     "output_type": "execute_result"
    }
   ],
   "source": [
    "state_v_chargeoff = df_loan_data_bi.groupby(['addr_state', 'loan_status']).loan_status.count().unstack().fillna(0).reset_index()\n",
    "state_v_chargeoff['Total'] = state_v_chargeoff['Charged Off'] + state_v_chargeoff['Fully Paid'] \n",
    "state_v_chargeoff['Chargedoff_Percent'] = round((state_v_chargeoff['Charged Off'] / state_v_chargeoff['Total'])*100)\n",
    "state_v_chargeoff.sort_values('Chargedoff_Percent', ascending=False)"
   ]
  },
  {
   "cell_type": "code",
   "execution_count": 186,
   "id": "84db76ef-2ff6-4b9b-b93c-7b5dbd729fca",
   "metadata": {},
   "outputs": [
    {
     "data": {
      "text/html": [
       "<div>\n",
       "<style scoped>\n",
       "    .dataframe tbody tr th:only-of-type {\n",
       "        vertical-align: middle;\n",
       "    }\n",
       "\n",
       "    .dataframe tbody tr th {\n",
       "        vertical-align: top;\n",
       "    }\n",
       "\n",
       "    .dataframe thead th {\n",
       "        text-align: right;\n",
       "    }\n",
       "</style>\n",
       "<table border=\"1\" class=\"dataframe\">\n",
       "  <thead>\n",
       "    <tr style=\"text-align: right;\">\n",
       "      <th>loan_status</th>\n",
       "      <th>addr_state</th>\n",
       "      <th>Charged Off</th>\n",
       "      <th>Fully Paid</th>\n",
       "      <th>Total</th>\n",
       "      <th>Chargedoff_Percent</th>\n",
       "    </tr>\n",
       "  </thead>\n",
       "  <tbody>\n",
       "    <tr>\n",
       "      <th>32</th>\n",
       "      <td>NV</td>\n",
       "      <td>103.0</td>\n",
       "      <td>354.0</td>\n",
       "      <td>457.0</td>\n",
       "      <td>23.0</td>\n",
       "    </tr>\n",
       "    <tr>\n",
       "      <th>11</th>\n",
       "      <td>HI</td>\n",
       "      <td>28.0</td>\n",
       "      <td>132.0</td>\n",
       "      <td>160.0</td>\n",
       "      <td>18.0</td>\n",
       "    </tr>\n",
       "    <tr>\n",
       "      <th>9</th>\n",
       "      <td>FL</td>\n",
       "      <td>485.0</td>\n",
       "      <td>2167.0</td>\n",
       "      <td>2652.0</td>\n",
       "      <td>18.0</td>\n",
       "    </tr>\n",
       "    <tr>\n",
       "      <th>24</th>\n",
       "      <td>MO</td>\n",
       "      <td>111.0</td>\n",
       "      <td>536.0</td>\n",
       "      <td>647.0</td>\n",
       "      <td>17.0</td>\n",
       "    </tr>\n",
       "    <tr>\n",
       "      <th>31</th>\n",
       "      <td>NM</td>\n",
       "      <td>30.0</td>\n",
       "      <td>147.0</td>\n",
       "      <td>177.0</td>\n",
       "      <td>17.0</td>\n",
       "    </tr>\n",
       "    <tr>\n",
       "      <th>36</th>\n",
       "      <td>OR</td>\n",
       "      <td>70.0</td>\n",
       "      <td>358.0</td>\n",
       "      <td>428.0</td>\n",
       "      <td>16.0</td>\n",
       "    </tr>\n",
       "    <tr>\n",
       "      <th>30</th>\n",
       "      <td>NJ</td>\n",
       "      <td>269.0</td>\n",
       "      <td>1402.0</td>\n",
       "      <td>1671.0</td>\n",
       "      <td>16.0</td>\n",
       "    </tr>\n",
       "    <tr>\n",
       "      <th>29</th>\n",
       "      <td>NH</td>\n",
       "      <td>25.0</td>\n",
       "      <td>132.0</td>\n",
       "      <td>157.0</td>\n",
       "      <td>16.0</td>\n",
       "    </tr>\n",
       "    <tr>\n",
       "      <th>27</th>\n",
       "      <td>NC</td>\n",
       "      <td>113.0</td>\n",
       "      <td>606.0</td>\n",
       "      <td>719.0</td>\n",
       "      <td>16.0</td>\n",
       "    </tr>\n",
       "    <tr>\n",
       "      <th>20</th>\n",
       "      <td>MD</td>\n",
       "      <td>156.0</td>\n",
       "      <td>810.0</td>\n",
       "      <td>966.0</td>\n",
       "      <td>16.0</td>\n",
       "    </tr>\n",
       "    <tr>\n",
       "      <th>43</th>\n",
       "      <td>UT</td>\n",
       "      <td>38.0</td>\n",
       "      <td>204.0</td>\n",
       "      <td>242.0</td>\n",
       "      <td>16.0</td>\n",
       "    </tr>\n",
       "    <tr>\n",
       "      <th>46</th>\n",
       "      <td>WA</td>\n",
       "      <td>124.0</td>\n",
       "      <td>660.0</td>\n",
       "      <td>784.0</td>\n",
       "      <td>16.0</td>\n",
       "    </tr>\n",
       "    <tr>\n",
       "      <th>10</th>\n",
       "      <td>GA</td>\n",
       "      <td>208.0</td>\n",
       "      <td>1078.0</td>\n",
       "      <td>1286.0</td>\n",
       "      <td>16.0</td>\n",
       "    </tr>\n",
       "    <tr>\n",
       "      <th>4</th>\n",
       "      <td>CA</td>\n",
       "      <td>1073.0</td>\n",
       "      <td>5487.0</td>\n",
       "      <td>6560.0</td>\n",
       "      <td>16.0</td>\n",
       "    </tr>\n",
       "    <tr>\n",
       "      <th>22</th>\n",
       "      <td>MI</td>\n",
       "      <td>100.0</td>\n",
       "      <td>582.0</td>\n",
       "      <td>682.0</td>\n",
       "      <td>15.0</td>\n",
       "    </tr>\n",
       "    <tr>\n",
       "      <th>39</th>\n",
       "      <td>SC</td>\n",
       "      <td>64.0</td>\n",
       "      <td>377.0</td>\n",
       "      <td>441.0</td>\n",
       "      <td>15.0</td>\n",
       "    </tr>\n",
       "    <tr>\n",
       "      <th>17</th>\n",
       "      <td>KY</td>\n",
       "      <td>45.0</td>\n",
       "      <td>259.0</td>\n",
       "      <td>304.0</td>\n",
       "      <td>15.0</td>\n",
       "    </tr>\n",
       "    <tr>\n",
       "      <th>23</th>\n",
       "      <td>MN</td>\n",
       "      <td>81.0</td>\n",
       "      <td>506.0</td>\n",
       "      <td>587.0</td>\n",
       "      <td>14.0</td>\n",
       "    </tr>\n",
       "    <tr>\n",
       "      <th>47</th>\n",
       "      <td>WI</td>\n",
       "      <td>60.0</td>\n",
       "      <td>361.0</td>\n",
       "      <td>421.0</td>\n",
       "      <td>14.0</td>\n",
       "    </tr>\n",
       "    <tr>\n",
       "      <th>33</th>\n",
       "      <td>NY</td>\n",
       "      <td>468.0</td>\n",
       "      <td>2995.0</td>\n",
       "      <td>3463.0</td>\n",
       "      <td>14.0</td>\n",
       "    </tr>\n",
       "    <tr>\n",
       "      <th>35</th>\n",
       "      <td>OK</td>\n",
       "      <td>40.0</td>\n",
       "      <td>241.0</td>\n",
       "      <td>281.0</td>\n",
       "      <td>14.0</td>\n",
       "    </tr>\n",
       "    <tr>\n",
       "      <th>3</th>\n",
       "      <td>AZ</td>\n",
       "      <td>117.0</td>\n",
       "      <td>693.0</td>\n",
       "      <td>810.0</td>\n",
       "      <td>14.0</td>\n",
       "    </tr>\n",
       "    <tr>\n",
       "      <th>14</th>\n",
       "      <td>IL</td>\n",
       "      <td>192.0</td>\n",
       "      <td>1213.0</td>\n",
       "      <td>1405.0</td>\n",
       "      <td>14.0</td>\n",
       "    </tr>\n",
       "    <tr>\n",
       "      <th>38</th>\n",
       "      <td>RI</td>\n",
       "      <td>24.0</td>\n",
       "      <td>162.0</td>\n",
       "      <td>186.0</td>\n",
       "      <td>13.0</td>\n",
       "    </tr>\n",
       "    <tr>\n",
       "      <th>18</th>\n",
       "      <td>LA</td>\n",
       "      <td>51.0</td>\n",
       "      <td>350.0</td>\n",
       "      <td>401.0</td>\n",
       "      <td>13.0</td>\n",
       "    </tr>\n",
       "    <tr>\n",
       "      <th>44</th>\n",
       "      <td>VA</td>\n",
       "      <td>174.0</td>\n",
       "      <td>1134.0</td>\n",
       "      <td>1308.0</td>\n",
       "      <td>13.0</td>\n",
       "    </tr>\n",
       "    <tr>\n",
       "      <th>6</th>\n",
       "      <td>CT</td>\n",
       "      <td>90.0</td>\n",
       "      <td>581.0</td>\n",
       "      <td>671.0</td>\n",
       "      <td>13.0</td>\n",
       "    </tr>\n",
       "    <tr>\n",
       "      <th>5</th>\n",
       "      <td>CO</td>\n",
       "      <td>96.0</td>\n",
       "      <td>645.0</td>\n",
       "      <td>741.0</td>\n",
       "      <td>13.0</td>\n",
       "    </tr>\n",
       "    <tr>\n",
       "      <th>34</th>\n",
       "      <td>OH</td>\n",
       "      <td>151.0</td>\n",
       "      <td>996.0</td>\n",
       "      <td>1147.0</td>\n",
       "      <td>13.0</td>\n",
       "    </tr>\n",
       "    <tr>\n",
       "      <th>42</th>\n",
       "      <td>TX</td>\n",
       "      <td>295.0</td>\n",
       "      <td>2181.0</td>\n",
       "      <td>2476.0</td>\n",
       "      <td>12.0</td>\n",
       "    </tr>\n",
       "    <tr>\n",
       "      <th>1</th>\n",
       "      <td>AL</td>\n",
       "      <td>52.0</td>\n",
       "      <td>371.0</td>\n",
       "      <td>423.0</td>\n",
       "      <td>12.0</td>\n",
       "    </tr>\n",
       "    <tr>\n",
       "      <th>37</th>\n",
       "      <td>PA</td>\n",
       "      <td>177.0</td>\n",
       "      <td>1245.0</td>\n",
       "      <td>1422.0</td>\n",
       "      <td>12.0</td>\n",
       "    </tr>\n",
       "    <tr>\n",
       "      <th>19</th>\n",
       "      <td>MA</td>\n",
       "      <td>150.0</td>\n",
       "      <td>1059.0</td>\n",
       "      <td>1209.0</td>\n",
       "      <td>12.0</td>\n",
       "    </tr>\n",
       "    <tr>\n",
       "      <th>16</th>\n",
       "      <td>KS</td>\n",
       "      <td>30.0</td>\n",
       "      <td>215.0</td>\n",
       "      <td>245.0</td>\n",
       "      <td>12.0</td>\n",
       "    </tr>\n",
       "    <tr>\n",
       "      <th>48</th>\n",
       "      <td>WV</td>\n",
       "      <td>21.0</td>\n",
       "      <td>148.0</td>\n",
       "      <td>169.0</td>\n",
       "      <td>12.0</td>\n",
       "    </tr>\n",
       "    <tr>\n",
       "      <th>2</th>\n",
       "      <td>AR</td>\n",
       "      <td>26.0</td>\n",
       "      <td>203.0</td>\n",
       "      <td>229.0</td>\n",
       "      <td>11.0</td>\n",
       "    </tr>\n",
       "    <tr>\n",
       "      <th>8</th>\n",
       "      <td>DE</td>\n",
       "      <td>12.0</td>\n",
       "      <td>97.0</td>\n",
       "      <td>109.0</td>\n",
       "      <td>11.0</td>\n",
       "    </tr>\n",
       "    <tr>\n",
       "      <th>7</th>\n",
       "      <td>DC</td>\n",
       "      <td>13.0</td>\n",
       "      <td>182.0</td>\n",
       "      <td>195.0</td>\n",
       "      <td>7.0</td>\n",
       "    </tr>\n",
       "  </tbody>\n",
       "</table>\n",
       "</div>"
      ],
      "text/plain": [
       "loan_status addr_state  Charged Off  Fully Paid   Total  Chargedoff_Percent\n",
       "32                  NV        103.0       354.0   457.0                23.0\n",
       "11                  HI         28.0       132.0   160.0                18.0\n",
       "9                   FL        485.0      2167.0  2652.0                18.0\n",
       "24                  MO        111.0       536.0   647.0                17.0\n",
       "31                  NM         30.0       147.0   177.0                17.0\n",
       "36                  OR         70.0       358.0   428.0                16.0\n",
       "30                  NJ        269.0      1402.0  1671.0                16.0\n",
       "29                  NH         25.0       132.0   157.0                16.0\n",
       "27                  NC        113.0       606.0   719.0                16.0\n",
       "20                  MD        156.0       810.0   966.0                16.0\n",
       "43                  UT         38.0       204.0   242.0                16.0\n",
       "46                  WA        124.0       660.0   784.0                16.0\n",
       "10                  GA        208.0      1078.0  1286.0                16.0\n",
       "4                   CA       1073.0      5487.0  6560.0                16.0\n",
       "22                  MI        100.0       582.0   682.0                15.0\n",
       "39                  SC         64.0       377.0   441.0                15.0\n",
       "17                  KY         45.0       259.0   304.0                15.0\n",
       "23                  MN         81.0       506.0   587.0                14.0\n",
       "47                  WI         60.0       361.0   421.0                14.0\n",
       "33                  NY        468.0      2995.0  3463.0                14.0\n",
       "35                  OK         40.0       241.0   281.0                14.0\n",
       "3                   AZ        117.0       693.0   810.0                14.0\n",
       "14                  IL        192.0      1213.0  1405.0                14.0\n",
       "38                  RI         24.0       162.0   186.0                13.0\n",
       "18                  LA         51.0       350.0   401.0                13.0\n",
       "44                  VA        174.0      1134.0  1308.0                13.0\n",
       "6                   CT         90.0       581.0   671.0                13.0\n",
       "5                   CO         96.0       645.0   741.0                13.0\n",
       "34                  OH        151.0       996.0  1147.0                13.0\n",
       "42                  TX        295.0      2181.0  2476.0                12.0\n",
       "1                   AL         52.0       371.0   423.0                12.0\n",
       "37                  PA        177.0      1245.0  1422.0                12.0\n",
       "19                  MA        150.0      1059.0  1209.0                12.0\n",
       "16                  KS         30.0       215.0   245.0                12.0\n",
       "48                  WV         21.0       148.0   169.0                12.0\n",
       "2                   AR         26.0       203.0   229.0                11.0\n",
       "8                   DE         12.0        97.0   109.0                11.0\n",
       "7                   DC         13.0       182.0   195.0                 7.0"
      ]
     },
     "execution_count": 186,
     "metadata": {},
     "output_type": "execute_result"
    }
   ],
   "source": [
    "state_v_chargeoff[state_v_chargeoff['Total']>100].sort_values('Chargedoff_Percent', ascending=False)"
   ]
  },
  {
   "cell_type": "markdown",
   "id": "9a1c2f33-fb60-42af-ab08-2202b6b91774",
   "metadata": {},
   "source": [
    "##### <span style='color:RED'>Observation 2.3.4.6<BR><BR><LI>Though NE state shows a high charge-off % the number of applications were not high to be considered for any conclusions</LI><LI>Upon filtering for states having more than 100 applications, NV seems to have a higher risk of defaulting</LI>"
   ]
  },
  {
   "cell_type": "markdown",
   "id": "cf8c0a0e-838f-4866-830d-ec616c1b489d",
   "metadata": {},
   "source": [
    "#####  <span style='color:BLUE'>Public Records of bankruptcies against ChargedOff Percentage</span>\n"
   ]
  },
  {
   "cell_type": "code",
   "execution_count": 184,
   "id": "96b94874-8ca3-4c40-b041-6823b82d4e8f",
   "metadata": {},
   "outputs": [
    {
     "data": {
      "text/html": [
       "<div>\n",
       "<style scoped>\n",
       "    .dataframe tbody tr th:only-of-type {\n",
       "        vertical-align: middle;\n",
       "    }\n",
       "\n",
       "    .dataframe tbody tr th {\n",
       "        vertical-align: top;\n",
       "    }\n",
       "\n",
       "    .dataframe thead th {\n",
       "        text-align: right;\n",
       "    }\n",
       "</style>\n",
       "<table border=\"1\" class=\"dataframe\">\n",
       "  <thead>\n",
       "    <tr style=\"text-align: right;\">\n",
       "      <th>loan_status</th>\n",
       "      <th>pub_rec_bankruptcies</th>\n",
       "      <th>Charged Off</th>\n",
       "      <th>Fully Paid</th>\n",
       "      <th>Total</th>\n",
       "      <th>Chargedoff_Percent</th>\n",
       "    </tr>\n",
       "  </thead>\n",
       "  <tbody>\n",
       "    <tr>\n",
       "      <th>2</th>\n",
       "      <td>2.0</td>\n",
       "      <td>2</td>\n",
       "      <td>3</td>\n",
       "      <td>5</td>\n",
       "      <td>40.0</td>\n",
       "    </tr>\n",
       "    <tr>\n",
       "      <th>1</th>\n",
       "      <td>1.0</td>\n",
       "      <td>361</td>\n",
       "      <td>1238</td>\n",
       "      <td>1599</td>\n",
       "      <td>23.0</td>\n",
       "    </tr>\n",
       "    <tr>\n",
       "      <th>0</th>\n",
       "      <td>0.0</td>\n",
       "      <td>4941</td>\n",
       "      <td>29439</td>\n",
       "      <td>34380</td>\n",
       "      <td>14.0</td>\n",
       "    </tr>\n",
       "  </tbody>\n",
       "</table>\n",
       "</div>"
      ],
      "text/plain": [
       "loan_status  pub_rec_bankruptcies  Charged Off  Fully Paid  Total  \\\n",
       "2                             2.0            2           3      5   \n",
       "1                             1.0          361        1238   1599   \n",
       "0                             0.0         4941       29439  34380   \n",
       "\n",
       "loan_status  Chargedoff_Percent  \n",
       "2                          40.0  \n",
       "1                          23.0  \n",
       "0                          14.0  "
      ]
     },
     "execution_count": 184,
     "metadata": {},
     "output_type": "execute_result"
    }
   ],
   "source": [
    "pubrec_v_chargeoff = df_loan_data_bi.groupby(['pub_rec_bankruptcies', 'loan_status']).loan_status.count().unstack().fillna(0).reset_index()\n",
    "pubrec_v_chargeoff['Total'] = pubrec_v_chargeoff['Charged Off'] + pubrec_v_chargeoff['Fully Paid'] \n",
    "pubrec_v_chargeoff['Chargedoff_Percent'] = round((pubrec_v_chargeoff['Charged Off'] / pubrec_v_chargeoff['Total'])*100)\n",
    "pubrec_v_chargeoff.sort_values('pub_rec_bankruptcies', ascending=False)"
   ]
  },
  {
   "cell_type": "markdown",
   "id": "e562d58a-e2cd-4217-8789-6bbb08c2cec3",
   "metadata": {},
   "source": [
    "##### <span style='color:RED'>Observation 2.3.4.7<BR><LI>Those who already have public record of bankruptcies value 1, have charged off percentage which is  higher than those who have no public record of bankruptcies.</LI>"
   ]
  },
  {
   "cell_type": "markdown",
   "id": "dbeea22d-987f-4f0b-8213-c86d16f901b3",
   "metadata": {},
   "source": [
    "# --------------THE END----------------"
   ]
  }
 ],
 "metadata": {
  "kernelspec": {
   "display_name": "Python 3 (ipykernel)",
   "language": "python",
   "name": "python3"
  },
  "language_info": {
   "codemirror_mode": {
    "name": "ipython",
    "version": 3
   },
   "file_extension": ".py",
   "mimetype": "text/x-python",
   "name": "python",
   "nbconvert_exporter": "python",
   "pygments_lexer": "ipython3",
   "version": "3.12.4"
  }
 },
 "nbformat": 4,
 "nbformat_minor": 5
}
